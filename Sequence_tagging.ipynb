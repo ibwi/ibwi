{
  "cells": [
    {
      "cell_type": "markdown",
      "metadata": {
        "id": "view-in-github",
        "colab_type": "text"
      },
      "source": [
        "<a href=\"https://colab.research.google.com/github/ibwi/ibwi/blob/main/Sequence_tagging.ipynb\" target=\"_parent\"><img src=\"https://colab.research.google.com/assets/colab-badge.svg\" alt=\"Open In Colab\"/></a>"
      ]
    },
    {
      "cell_type": "markdown",
      "metadata": {
        "id": "s-617TNcJH6K"
      },
      "source": [
        "# TP Sequence models and RNN\n",
        "### Binôme ROUXEL Stéphanie & CHANG Hy-Boui - juillet 2020\n",
        "\n"
      ]
    },
    {
      "cell_type": "markdown",
      "metadata": {
        "id": "wf8ZKsK_JH6O"
      },
      "source": [
        "# Sequence models and recurrent networks \n",
        "\n",
        "## Preliminary remarks\n",
        "\n",
        "Recurrent networks in *pytorch* expects as input a Tensor in 3 dimensions (*3D tensor*). The axes carry an important semantic: \n",
        "- the first axis is \"the time\" \n",
        "- the second one corresponds to the mini-batch\n",
        "- the third corresponds to the dimension of input vectors (typically the embedding size)\n",
        "\n",
        "\n",
        "Therefore, a sequence of 5 vectors of 4 features (size 4) is represented as a Tensor of dimensions (5,1,4). If we have 7 sequences of 5 vectors, all of size 4, we get (5,7,4). \n",
        "\n",
        "Lets start with some simple code with synthetic data. "
      ]
    },
    {
      "cell_type": "code",
      "execution_count": null,
      "metadata": {
        "id": "_ZuhkNgYJH6Q"
      },
      "outputs": [],
      "source": [
        "import pickle # for the real data \n",
        "import torch  # Torch + shortcuts\n",
        "import torch.autograd as autograd\n",
        "import torch.nn as nn\n",
        "import torch.nn.functional as F\n",
        "import torch.optim as optim\n",
        "torch.manual_seed(1) # To reproduce the experiments\n",
        "\n",
        "from torch.utils.data import DataLoader\n",
        "import torchvision.transforms as transforms\n",
        "\n",
        "import numpy as numpy\n",
        "import matplotlib.pyplot as plt\n"
      ]
    },
    {
      "cell_type": "code",
      "execution_count": null,
      "metadata": {
        "colab": {
          "base_uri": "https://localhost:8080/",
          "height": 195
        },
        "id": "8OOQasgzJH6g",
        "outputId": "d84f5a83-ce41-41a7-ebb1-0cf404f9e57d"
      },
      "outputs": [
        {
          "name": "stdout",
          "output_type": "stream",
          "text": [
            "input sequence : tensor([[[-1.5256, -0.7502, -0.6540, -1.6095]],\n",
            "\n",
            "        [[ 0.8657,  0.2444, -0.6629,  0.8073]],\n",
            "\n",
            "        [[ 0.4391,  1.1712,  1.7674, -0.0954]],\n",
            "\n",
            "        [[ 0.0612, -0.6177, -0.7981, -0.1316]],\n",
            "\n",
            "        [[-0.7984,  0.3357,  0.2753,  1.7163]]])\n",
            "The shape :  torch.Size([5, 1, 4])\n"
          ]
        }
      ],
      "source": [
        "inputs = torch.randn((5,1,4))\n",
        "print(\"input sequence :\", inputs)\n",
        "print(\"The shape : \", inputs.shape)\n"
      ]
    },
    {
      "cell_type": "markdown",
      "metadata": {
        "id": "7TPhrLPaJH6p"
      },
      "source": [
        "## A simple recurrent model and  LSTM\n",
        "\n",
        "A simple recurrent network is for instance of the thpe **nn.RNN**. \n",
        "To build it, we must specify: \n",
        "- the input size (this implies the size of the Linear Layer that will process input vectors);\n",
        "- the size of the hidden layer (this implies the size of the Linear Layer that will process the time transition). \n",
        "\n",
        "Other options are available and useful, like:\n",
        "- nonlinearity \n",
        "- bias\n",
        "- batch_first \n",
        "\n",
        "\n",
        "The forward function of a recurrent net can handle two types of input and therefore acts in two ways. \n",
        "\n",
        "### One step forward\n",
        "The first one corresponds to one time step: the neural networks reads one input symbol and update the hidden layer. The forward function therefore returns a tuple of two Tensors: the output and the updated hidden layer. \n",
        "\n",
        "\n"
      ]
    },
    {
      "cell_type": "code",
      "execution_count": null,
      "metadata": {
        "colab": {
          "base_uri": "https://localhost:8080/",
          "height": 124
        },
        "id": "9kFRgWPUJH6r",
        "outputId": "cf7f6e44-02d4-43b3-9c9e-6b72079de2b5"
      },
      "outputs": [
        {
          "name": "stdout",
          "output_type": "stream",
          "text": [
            "h0 :  tensor([[[-0.8737, -0.2693, -0.5124]]]) torch.Size([1, 1, 3])\n",
            "##################\n",
            "One step returns: \n",
            "  1/  output :  tensor([[[-0.6307, -0.0205,  0.0848]]], grad_fn=<StackBackward>) torch.Size([1, 1, 3])\n",
            "  2/  hidden :  tensor([[[-0.6307, -0.0205,  0.0848]]], grad_fn=<StackBackward>) torch.Size([1, 1, 3])\n",
            "##################\n"
          ]
        }
      ],
      "source": [
        "recNN = nn.RNN(input_size=4, hidden_size=3)  # Input dim is 4, hidden layer size  is 3\n",
        "\n",
        "# initialize the hidden state.\n",
        "h0 = torch.randn(1, 1, 3) # \n",
        "print(\"h0 : \",h0,h0.shape)\n",
        "\n",
        "# One step \n",
        "out, hn = recNN(inputs[0].view(1,1,-1), h0)\n",
        "print(\"##################\")\n",
        "print(\"One step returns: \")\n",
        "print(\"  1/  output : \", out, out.shape)\n",
        "print(\"  2/  hidden : \", hn, hn.shape)\n",
        "print(\"##################\")"
      ]
    },
    {
      "cell_type": "markdown",
      "metadata": {
        "id": "fQWgJCHtJH60"
      },
      "source": [
        "We can observe that both vectors are the same. Indeed, in a simple recurrent network there is no distinction between the output and the hidden layers.  A prediction can be done by taking into account at each time step this hidden layer: \n",
        "\n",
        "$$ h_t = f_1(x_t,h_{t-1})$$\n",
        "$$ y_t = f_2(h_t)$$\n",
        "\n",
        "For one step forward, the recurrent net only needs to keep track of the hidden layer. Some more advanced architectures, like **LSTM** use  two kinds of hidden layers: one for the memory managment  named **cell state** (or $c_t$), and the other to make the prediction named  **hidden state** (or $h_t$). The API is generic for all the recurrent nets et returns a tuple at each time step. This tuple gathers the sufficient data to unfold the network. \n",
        "\n",
        "### Sequence forward (unfold)\n",
        "The second \"style\" of the forward function consists in taking as input a sequence and to unfold the network on this input sequence. It is equivalent to a for loop. \n"
      ]
    },
    {
      "cell_type": "code",
      "execution_count": null,
      "metadata": {
        "colab": {
          "base_uri": "https://localhost:8080/",
          "height": 284
        },
        "id": "KJ505jtyJH62",
        "outputId": "6b325739-bf44-4ce8-d883-4c52ba8f21c9"
      },
      "outputs": [
        {
          "name": "stdout",
          "output_type": "stream",
          "text": [
            "* outputs:\n",
            " tensor([[[-0.6307, -0.0205,  0.0848]],\n",
            "\n",
            "        [[-0.5812,  0.7743,  0.2956]],\n",
            "\n",
            "        [[-0.2936,  0.9483,  0.1993]],\n",
            "\n",
            "        [[-0.7406,  0.7238,  0.6722]],\n",
            "\n",
            "        [[-0.9548,  0.5780,  0.7488]]], grad_fn=<StackBackward>) \n",
            "  shape: torch.Size([5, 1, 3]) \n",
            "\n",
            "* hn:\n",
            " tensor([[[-0.9548,  0.5780,  0.7488]]], grad_fn=<StackBackward>) \n",
            "  shape: torch.Size([1, 1, 3])\n"
          ]
        }
      ],
      "source": [
        "# The whole the sequence in one call: unfolding the network \n",
        "outputs, hn = recNN(inputs, h0)\n",
        "print(\"* outputs:\\n\",outputs, \"\\n  shape:\",outputs.shape,\"\\n\")\n",
        "print(\"* hn:\\n\",hn, \"\\n  shape:\",hn.shape)"
      ]
    },
    {
      "cell_type": "markdown",
      "metadata": {
        "id": "zEmWLlFLJH6_"
      },
      "source": [
        "in this case, the forward function returns: \n",
        "- the sequence of the hidden layers associated to each input vector;\n",
        "- and the last hidden layer. \n",
        "The previous code is equivalent to this one: "
      ]
    },
    {
      "cell_type": "code",
      "execution_count": null,
      "metadata": {
        "colab": {
          "base_uri": "https://localhost:8080/",
          "height": 106
        },
        "id": "qm6H-w9oJH7B",
        "outputId": "b1067bbc-b89b-478e-b381-3f0bddd297c9"
      },
      "outputs": [
        {
          "name": "stdout",
          "output_type": "stream",
          "text": [
            "at time  0  out =  tensor([[[-0.6307, -0.0205,  0.0848]]], grad_fn=<StackBackward>)\n",
            "at time  1  out =  tensor([[[-0.5812,  0.7743,  0.2956]]], grad_fn=<StackBackward>)\n",
            "at time  2  out =  tensor([[[-0.2936,  0.9483,  0.1993]]], grad_fn=<StackBackward>)\n",
            "at time  3  out =  tensor([[[-0.7406,  0.7238,  0.6722]]], grad_fn=<StackBackward>)\n",
            "at time  4  out =  tensor([[[-0.9548,  0.5780,  0.7488]]], grad_fn=<StackBackward>)\n"
          ]
        }
      ],
      "source": [
        "hn=h0 # init \n",
        "for t in range(len(inputs)): \n",
        "    out, hn = recNN(inputs[t].view(1,1,-1), hn)\n",
        "    print(\"at time \",t, \" out = \", out)"
      ]
    },
    {
      "cell_type": "markdown",
      "metadata": {
        "id": "8T8lu02cJH7J"
      },
      "source": [
        "## Usage of LSTM\n",
        "\n",
        "To illustrate the previous section, the following code replace a simple recurrent network by a LSTM. Look at the differences ! "
      ]
    },
    {
      "cell_type": "code",
      "execution_count": null,
      "metadata": {
        "colab": {
          "base_uri": "https://localhost:8080/",
          "height": 124
        },
        "id": "j6G81T46JH7L",
        "outputId": "f3990f8e-e800-496c-8aa1-20380f690272"
      },
      "outputs": [
        {
          "name": "stdout",
          "output_type": "stream",
          "text": [
            "##################\n",
            "One step returns: \n",
            "  1/  output :  tensor([[[0.1313, 0.2055, 0.1265]]], grad_fn=<StackBackward>) torch.Size([1, 1, 3])\n",
            "  2/  hidden :  tensor([[[0.1313, 0.2055, 0.1265]]], grad_fn=<StackBackward>) torch.Size([1, 1, 3])\n",
            "  3/  cell   :  tensor([[[0.2867, 0.6155, 1.2126]]], grad_fn=<StackBackward>) torch.Size([1, 1, 3])\n",
            "##################\n"
          ]
        }
      ],
      "source": [
        "recNN = nn.LSTM(input_size=4, hidden_size=3)  # Input dim is 4, hidden layer size  is 3\n",
        "h0 =  torch.randn(1, 1, 3) # \n",
        "c0 =  torch.randn(1, 1, 3) # \n",
        "# One step \n",
        "\n",
        "# One step \n",
        "out, (hn,cn) = recNN(inputs[0].view(1,1,-1), (h0,c0))\n",
        "print(\"##################\")\n",
        "print(\"One step returns: \")\n",
        "print(\"  1/  output : \", out, out.shape)\n",
        "print(\"  2/  hidden : \", hn, hn.shape)\n",
        "print(\"  3/  cell   : \", cn, cn.shape)\n",
        "print(\"##################\")\n"
      ]
    },
    {
      "cell_type": "markdown",
      "metadata": {
        "id": "UgduURTMJH7V"
      },
      "source": [
        "It is important to understand these examples and more specifically :\n",
        "* the parameters \"input dimension\" and \"output dimension\" set to 3 ? \n",
        "* why we initialize the hidden layer ?\n",
        "* the *-1* when we call *view* ? \n",
        "* ... \n",
        "If we unfold the LSTM along the sequence of inputs: \n"
      ]
    },
    {
      "cell_type": "code",
      "execution_count": null,
      "metadata": {
        "colab": {
          "base_uri": "https://localhost:8080/",
          "height": 372
        },
        "id": "fE_c8EXaJH7W",
        "outputId": "b8cf9c31-3c81-4003-e917-58b30310eeb6"
      },
      "outputs": [
        {
          "name": "stdout",
          "output_type": "stream",
          "text": [
            "##################\n",
            "Unfolding the net: \n",
            "  1/ out:\n",
            "  tensor([[[0.1313, 0.2055, 0.1265]],\n",
            "\n",
            "        [[0.0454, 0.3733, 0.2033]],\n",
            "\n",
            "        [[0.1518, 0.3830, 0.2379]],\n",
            "\n",
            "        [[0.0556, 0.2590, 0.1208]],\n",
            "\n",
            "        [[0.0629, 0.2052, 0.0781]]], grad_fn=<StackBackward>) \n",
            " torch.Size([5, 1, 3])\n",
            "  2/ hn :\n",
            " tensor([[[0.0629, 0.2052, 0.0781]]], grad_fn=<StackBackward>) \n",
            " torch.Size([1, 1, 3])\n",
            "  3/ cn :\n",
            " tensor([[[0.0957, 0.4264, 0.4603]]], grad_fn=<StackBackward>) \n",
            " torch.Size([1, 1, 3])\n",
            "##################\n"
          ]
        }
      ],
      "source": [
        "\n",
        "\n",
        "out, (hn, cn) = recNN(inputs, (h0,c0))\n",
        "print(\"##################\")\n",
        "print(\"Unfolding the net: \")\n",
        "print(\"  1/ out:\\n \", out, \"\\n\",out.shape)\n",
        "print(\"  2/ hn :\\n\", hn, \"\\n\",hn.shape )\n",
        "print(\"  3/ cn :\\n\", cn,\"\\n\", cn.shape )\n",
        "print(\"##################\")"
      ]
    },
    {
      "cell_type": "markdown",
      "metadata": {
        "id": "iq8cGx3hJH7c"
      },
      "source": [
        "# Sequence tagging  \n",
        "\n",
        "\n",
        "The task of *sequence tagging* consists in the attribution of a tag (or a class) to each element  (or words ) of a sequence (a sentence): \n",
        "* An observation is a sentence represented as a word sequence;\n",
        "* A tag sequence is associated to this sentence, one tag per word. \n",
        "\n",
        "If the input is sequence of symbols : \n",
        "$w_1, \\dots, w_M$, with $w_i \\in V$, the vocabulary or the finite set of the known words. Assume we have a tagset $T$ le *tagset* which is the set of all possible tags (the output space). At time $i$,  $y_i$ is the tag associated to the word  $w_i$.\n",
        "The prediction of the model is  $\\hat{y}_i$. \n",
        "Our goal is to predict the sequence $\\hat{y}_1, \\dots, \\hat{y}_M$, with $\\hat{y}_i \\in T$.\n",
        "\n",
        "## A recurrent tagger\n",
        "We can use a recurrent model to create a sequence tagger. The recurrent network \"reads\" the sentence and predict the tag sequence. We denote the hidden state of the recurrent network at time $i$ as  $h_i$. The prediction rule is to select   $\\hat{y}_i$ as : \n",
        "\n",
        "\\begin{align}\\hat{y}_i = \\text{argmax}_j \\  (\\log \\text{Softmax}(Ah_i + b))_j\\end{align}\n",
        "\n",
        "The softmax function gives us a probability distribution over the tagset ($\\in T$). The softmax is applied to a linear transformation of the hidden state $h_i$. In the following we can use the logsoftmax associated to the adapted loss. \n",
        "\n",
        "## A first (toy) dataset\n",
        "\n",
        "Let us build our first dataset and define some useful function. "
      ]
    },
    {
      "cell_type": "code",
      "execution_count": null,
      "metadata": {
        "colab": {
          "base_uri": "https://localhost:8080/",
          "height": 141
        },
        "id": "tMm_fftqJH7d",
        "outputId": "e8636944-0868-4449-d104-c6fd7cc1461f"
      },
      "outputs": [
        {
          "name": "stdout",
          "output_type": "stream",
          "text": [
            "Words dict:  {'The': 0, 'dog': 1, 'ate': 2, 'the': 3, 'apple': 4, 'Everybody': 5, 'read': 6, 'that': 7, 'book': 8}\n",
            "Tags  dict:  {'DET': 0, 'NN': 1, 'V': 2}\n",
            "The sentence :  ['The', 'dog', 'ate', 'the', 'apple']\n",
            "The tag seq. :  ['DET', 'NN', 'V', 'DET', 'NN']\n",
            "#### in the prepared version\n",
            "The sentence :  tensor([0, 1, 2, 3, 4])\n",
            "The tag seq. :  tensor([0, 1, 2, 0, 1])\n"
          ]
        }
      ],
      "source": [
        "\n",
        "# Convert the input sequence into an integer one.\n",
        "# The mapping is recorded in the dictionnary to_ix\n",
        "def prepare_sequence(seq, to_ix):\n",
        "    idxs = [to_ix[w] for w in seq]\n",
        "    tensor = torch.LongTensor(idxs)\n",
        "    return tensor\n",
        "\n",
        "# Toy dataset\n",
        "training_data = [\n",
        "    (\"The dog ate the apple\".split(), [\"DET\", \"NN\", \"V\", \"DET\", \"NN\"]),\n",
        "    (\"Everybody read that book\".split(), [\"NN\", \"V\", \"DET\", \"NN\"])\n",
        "]\n",
        "\n",
        "# The dictionnary : word -> index\n",
        "word_to_ix = {}\n",
        "# The other : tag -> index\n",
        "tag_to_ix = {}\n",
        "# Build them \n",
        "for sent, tags in training_data:\n",
        "    for word in sent:\n",
        "        if word not in word_to_ix:\n",
        "            word_to_ix[word] = len(word_to_ix)\n",
        "    for tag in tags:\n",
        "        if tag not in tag_to_ix:\n",
        "            tag_to_ix[tag] = len(tag_to_ix)\n",
        "##\n",
        "print(\"Words dict: \", word_to_ix)\n",
        "print(\"Tags  dict: \",tag_to_ix)\n",
        "\n",
        "print(\"The sentence : \", training_data[0][0])\n",
        "print(\"The tag seq. : \", training_data[0][1])\n",
        "print(\"#### in the prepared version\")\n",
        "print(\"The sentence : \", prepare_sequence(training_data[0][0],word_to_ix))\n",
        "print(\"The tag seq. : \", prepare_sequence(training_data[0][1],tag_to_ix))"
      ]
    },
    {
      "cell_type": "code",
      "execution_count": null,
      "metadata": {
        "colab": {
          "base_uri": "https://localhost:8080/",
          "height": 52
        },
        "id": "VOBC0Zfy-3-W",
        "outputId": "80fb52f0-4876-4919-9c10-9d1464d065b7"
      },
      "outputs": [
        {
          "name": "stdout",
          "output_type": "stream",
          "text": [
            "Unique words: 9\n",
            "Unique tags: 3\n"
          ]
        }
      ],
      "source": [
        "#ajout : calculons les nombres de mots et de tags \n",
        "word_vocab_size = len(word_to_ix)\n",
        "tag_vocab_size = len(tag_to_ix)\n",
        "\n",
        "print(\"Unique words: {}\".format(len(word_to_ix)))\n",
        "print(\"Unique tags: {}\".format(len(tag_to_ix)))"
      ]
    },
    {
      "cell_type": "markdown",
      "metadata": {
        "id": "2uS53Vc0JH7h"
      },
      "source": [
        "## Build our first model\n",
        "Fill the following class. We can use a LSTM our tagger, with 3 components: \n",
        "- a LSTM us unfolded on the word sequence to be processed\n",
        "- an Embedding layer to project words\n",
        "- A linear layer to feed the log-softmax for prediction purpose. \n",
        "\n",
        "These three modules must be created in the constructor of the class. The forward function requires your full attention: \n",
        "- the model takes an input sequence: a tensor of word idx\n",
        "- the embedding layers will generate a new tensor, what is the dimensions ? \n",
        "- what is expected by the LSTM module ? \n",
        "- what is the dimensions of the LSTM ? \n",
        "- what is expected by the final Linear module ? \n",
        "\n",
        "Try to write it : \n"
      ]
    },
    {
      "cell_type": "code",
      "execution_count": null,
      "metadata": {
        "id": "yOWWVQQq4ecT"
      },
      "outputs": [],
      "source": [
        "class RecurrentTagger(nn.Module):\n",
        "\n",
        "    def __init__(self, embedding_dim, hidden_dim, vocab_size, tagset_size):\n",
        "        super(RecurrentTagger, self).__init__()\n",
        "        self.hidden_dim = hidden_dim \n",
        "\n",
        "        # on va créer le résultat de mots embedded\n",
        "        # le premier argument est le nbre de mots ==> donc il s'agit de la taille du vocabulaire\n",
        "        # le second argument est la dimension de l'encastrement\n",
        "        self.word_embeddings = nn.Embedding(vocab_size, embedding_dim)\n",
        "\n",
        "        # on va définir la fonction LSTM, elle prend les mots embdded en entrée, et renvoie les hidden states en sortie\n",
        "        self.lstm = nn.LSTM(embedding_dim, hidden_dim)\n",
        "\n",
        "        # on va aussi définir une couche linéaire qui permet de mapper les couches cachées vers les TAGS\n",
        "        self.hidden2tag = nn.Linear(hidden_dim, tagset_size)\n",
        "\n",
        "    def init_hidden(self):\n",
        "        return (torch.zeros(1, 1, self.hidden_dim),\n",
        "                torch.zeros(1, 1, self.hidden_dim))        \n",
        "        \n",
        "    def forward(self, sentence):\n",
        "      embeds = self.word_embeddings(sentence)\n",
        "      lstm_out, _ = self.lstm(embeds.view(len(sentence), 1, -1))\n",
        "      tag_space = self.hidden2tag(lstm_out.view(len(sentence), -1))\n",
        "      #passage dans la couche linéaire\n",
        "      tag_scores = F.log_softmax(tag_space, dim=1)\n",
        "      return tag_scores"
      ]
    },
    {
      "cell_type": "markdown",
      "metadata": {
        "id": "KxeUm9xcJH7q"
      },
      "source": [
        "# Training \n",
        "Now write the code to train this model"
      ]
    },
    {
      "cell_type": "code",
      "execution_count": null,
      "metadata": {
        "colab": {
          "base_uri": "https://localhost:8080/",
          "height": 1000
        },
        "id": "1FU4jrq26RYb",
        "outputId": "70a7346b-c157-41ea-e81e-9aefce99e07c"
      },
      "outputs": [
        {
          "name": "stderr",
          "output_type": "stream",
          "text": [
            "C:\\Users\\Hyboui\\Anaconda3\\lib\\site-packages\\ipykernel_launcher.py:46: UserWarning: To copy construct from a tensor, it is recommended to use sourceTensor.clone().detach() or sourceTensor.clone().detach().requires_grad_(True), rather than torch.tensor(sourceTensor).\n"
          ]
        },
        {
          "name": "stdout",
          "output_type": "stream",
          "text": [
            "\t Epoch: 01 | Loss: 1.073  | Accuracy: 25.00%\n",
            "\t Epoch: 02 | Loss: 1.067  | Accuracy: 25.00%\n",
            "\t Epoch: 03 | Loss: 1.061  | Accuracy: 50.00%\n",
            "\t Epoch: 04 | Loss: 1.056  | Accuracy: 50.00%\n",
            "\t Epoch: 05 | Loss: 1.052  | Accuracy: 50.00%\n",
            "\t Epoch: 06 | Loss: 1.048  | Accuracy: 50.00%\n",
            "\t Epoch: 07 | Loss: 1.044  | Accuracy: 50.00%\n",
            "\t Epoch: 08 | Loss: 1.041  | Accuracy: 50.00%\n",
            "\t Epoch: 09 | Loss: 1.038  | Accuracy: 50.00%\n",
            "\t Epoch: 10 | Loss: 1.035  | Accuracy: 50.00%\n",
            "\t Epoch: 11 | Loss: 1.032  | Accuracy: 50.00%\n",
            "\t Epoch: 12 | Loss: 1.029  | Accuracy: 50.00%\n",
            "\t Epoch: 13 | Loss: 1.026  | Accuracy: 50.00%\n",
            "\t Epoch: 14 | Loss: 1.024  | Accuracy: 50.00%\n",
            "\t Epoch: 15 | Loss: 1.021  | Accuracy: 50.00%\n",
            "\t Epoch: 16 | Loss: 1.019  | Accuracy: 50.00%\n",
            "\t Epoch: 17 | Loss: 1.017  | Accuracy: 50.00%\n",
            "\t Epoch: 18 | Loss: 1.014  | Accuracy: 50.00%\n",
            "\t Epoch: 19 | Loss: 1.012  | Accuracy: 50.00%\n",
            "\t Epoch: 20 | Loss: 1.009  | Accuracy: 50.00%\n",
            "\t Epoch: 21 | Loss: 1.007  | Accuracy: 50.00%\n",
            "\t Epoch: 22 | Loss: 1.005  | Accuracy: 50.00%\n",
            "\t Epoch: 23 | Loss: 1.002  | Accuracy: 50.00%\n",
            "\t Epoch: 24 | Loss: 1.000  | Accuracy: 50.00%\n",
            "\t Epoch: 25 | Loss: 0.998  | Accuracy: 50.00%\n",
            "\t Epoch: 26 | Loss: 0.995  | Accuracy: 50.00%\n",
            "\t Epoch: 27 | Loss: 0.993  | Accuracy: 50.00%\n",
            "\t Epoch: 28 | Loss: 0.990  | Accuracy: 50.00%\n",
            "\t Epoch: 29 | Loss: 0.988  | Accuracy: 50.00%\n",
            "\t Epoch: 30 | Loss: 0.985  | Accuracy: 50.00%\n",
            "\t Epoch: 31 | Loss: 0.982  | Accuracy: 50.00%\n",
            "\t Epoch: 32 | Loss: 0.980  | Accuracy: 50.00%\n",
            "\t Epoch: 33 | Loss: 0.977  | Accuracy: 50.00%\n",
            "\t Epoch: 34 | Loss: 0.974  | Accuracy: 50.00%\n",
            "\t Epoch: 35 | Loss: 0.971  | Accuracy: 50.00%\n",
            "\t Epoch: 36 | Loss: 0.968  | Accuracy: 50.00%\n",
            "\t Epoch: 37 | Loss: 0.966  | Accuracy: 50.00%\n",
            "\t Epoch: 38 | Loss: 0.963  | Accuracy: 50.00%\n",
            "\t Epoch: 39 | Loss: 0.959  | Accuracy: 50.00%\n",
            "\t Epoch: 40 | Loss: 0.956  | Accuracy: 50.00%\n",
            "\t Epoch: 41 | Loss: 0.953  | Accuracy: 50.00%\n",
            "\t Epoch: 42 | Loss: 0.950  | Accuracy: 50.00%\n",
            "\t Epoch: 43 | Loss: 0.946  | Accuracy: 50.00%\n",
            "\t Epoch: 44 | Loss: 0.943  | Accuracy: 50.00%\n",
            "\t Epoch: 45 | Loss: 0.939  | Accuracy: 50.00%\n",
            "\t Epoch: 46 | Loss: 0.936  | Accuracy: 50.00%\n",
            "\t Epoch: 47 | Loss: 0.932  | Accuracy: 50.00%\n",
            "\t Epoch: 48 | Loss: 0.928  | Accuracy: 50.00%\n",
            "\t Epoch: 49 | Loss: 0.925  | Accuracy: 50.00%\n",
            "\t Epoch: 50 | Loss: 0.921  | Accuracy: 50.00%\n",
            "\t Epoch: 51 | Loss: 0.917  | Accuracy: 50.00%\n",
            "\t Epoch: 52 | Loss: 0.912  | Accuracy: 50.00%\n",
            "\t Epoch: 53 | Loss: 0.908  | Accuracy: 50.00%\n",
            "\t Epoch: 54 | Loss: 0.904  | Accuracy: 50.00%\n",
            "\t Epoch: 55 | Loss: 0.900  | Accuracy: 50.00%\n",
            "\t Epoch: 56 | Loss: 0.895  | Accuracy: 75.00%\n",
            "\t Epoch: 57 | Loss: 0.890  | Accuracy: 75.00%\n",
            "\t Epoch: 58 | Loss: 0.886  | Accuracy: 75.00%\n",
            "\t Epoch: 59 | Loss: 0.881  | Accuracy: 75.00%\n",
            "\t Epoch: 60 | Loss: 0.876  | Accuracy: 75.00%\n",
            "\t Epoch: 61 | Loss: 0.871  | Accuracy: 75.00%\n",
            "\t Epoch: 62 | Loss: 0.866  | Accuracy: 75.00%\n",
            "\t Epoch: 63 | Loss: 0.861  | Accuracy: 75.00%\n",
            "\t Epoch: 64 | Loss: 0.855  | Accuracy: 75.00%\n",
            "\t Epoch: 65 | Loss: 0.850  | Accuracy: 75.00%\n",
            "\t Epoch: 66 | Loss: 0.844  | Accuracy: 75.00%\n",
            "\t Epoch: 67 | Loss: 0.839  | Accuracy: 75.00%\n",
            "\t Epoch: 68 | Loss: 0.833  | Accuracy: 75.00%\n",
            "\t Epoch: 69 | Loss: 0.827  | Accuracy: 75.00%\n",
            "\t Epoch: 70 | Loss: 0.821  | Accuracy: 75.00%\n",
            "\t Epoch: 71 | Loss: 0.815  | Accuracy: 75.00%\n",
            "\t Epoch: 72 | Loss: 0.809  | Accuracy: 75.00%\n",
            "\t Epoch: 73 | Loss: 0.802  | Accuracy: 75.00%\n",
            "\t Epoch: 74 | Loss: 0.796  | Accuracy: 75.00%\n",
            "\t Epoch: 75 | Loss: 0.789  | Accuracy: 75.00%\n",
            "\t Epoch: 76 | Loss: 0.783  | Accuracy: 75.00%\n",
            "\t Epoch: 77 | Loss: 0.776  | Accuracy: 75.00%\n",
            "\t Epoch: 78 | Loss: 0.769  | Accuracy: 75.00%\n",
            "\t Epoch: 79 | Loss: 0.762  | Accuracy: 75.00%\n",
            "\t Epoch: 80 | Loss: 0.755  | Accuracy: 75.00%\n",
            "\t Epoch: 81 | Loss: 0.748  | Accuracy: 75.00%\n",
            "\t Epoch: 82 | Loss: 0.741  | Accuracy: 75.00%\n",
            "\t Epoch: 83 | Loss: 0.734  | Accuracy: 75.00%\n",
            "\t Epoch: 84 | Loss: 0.726  | Accuracy: 75.00%\n",
            "\t Epoch: 85 | Loss: 0.719  | Accuracy: 75.00%\n",
            "\t Epoch: 86 | Loss: 0.711  | Accuracy: 75.00%\n",
            "\t Epoch: 87 | Loss: 0.704  | Accuracy: 75.00%\n",
            "\t Epoch: 88 | Loss: 0.696  | Accuracy: 75.00%\n",
            "\t Epoch: 89 | Loss: 0.688  | Accuracy: 75.00%\n",
            "\t Epoch: 90 | Loss: 0.681  | Accuracy: 75.00%\n",
            "\t Epoch: 91 | Loss: 0.673  | Accuracy: 75.00%\n",
            "\t Epoch: 92 | Loss: 0.665  | Accuracy: 75.00%\n",
            "\t Epoch: 93 | Loss: 0.657  | Accuracy: 75.00%\n",
            "\t Epoch: 94 | Loss: 0.649  | Accuracy: 75.00%\n",
            "\t Epoch: 95 | Loss: 0.641  | Accuracy: 75.00%\n",
            "\t Epoch: 96 | Loss: 0.633  | Accuracy: 75.00%\n",
            "\t Epoch: 97 | Loss: 0.625  | Accuracy: 75.00%\n",
            "\t Epoch: 98 | Loss: 0.617  | Accuracy: 75.00%\n",
            "\t Epoch: 99 | Loss: 0.609  | Accuracy: 75.00%\n",
            "\t Epoch: 100 | Loss: 0.601  | Accuracy: 75.00%\n",
            "\t Epoch: 101 | Loss: 0.592  | Accuracy: 100.00%\n",
            "\t Epoch: 102 | Loss: 0.584  | Accuracy: 100.00%\n",
            "\t Epoch: 103 | Loss: 0.576  | Accuracy: 100.00%\n",
            "\t Epoch: 104 | Loss: 0.568  | Accuracy: 100.00%\n",
            "\t Epoch: 105 | Loss: 0.560  | Accuracy: 100.00%\n",
            "\t Epoch: 106 | Loss: 0.552  | Accuracy: 100.00%\n",
            "\t Epoch: 107 | Loss: 0.544  | Accuracy: 100.00%\n",
            "\t Epoch: 108 | Loss: 0.535  | Accuracy: 100.00%\n",
            "\t Epoch: 109 | Loss: 0.527  | Accuracy: 100.00%\n",
            "\t Epoch: 110 | Loss: 0.519  | Accuracy: 100.00%\n",
            "\t Epoch: 111 | Loss: 0.511  | Accuracy: 100.00%\n",
            "\t Epoch: 112 | Loss: 0.503  | Accuracy: 100.00%\n",
            "\t Epoch: 113 | Loss: 0.495  | Accuracy: 100.00%\n",
            "\t Epoch: 114 | Loss: 0.488  | Accuracy: 100.00%\n",
            "\t Epoch: 115 | Loss: 0.480  | Accuracy: 100.00%\n",
            "\t Epoch: 116 | Loss: 0.472  | Accuracy: 100.00%\n",
            "\t Epoch: 117 | Loss: 0.464  | Accuracy: 100.00%\n",
            "\t Epoch: 118 | Loss: 0.457  | Accuracy: 100.00%\n",
            "\t Epoch: 119 | Loss: 0.449  | Accuracy: 100.00%\n",
            "\t Epoch: 120 | Loss: 0.441  | Accuracy: 100.00%\n",
            "\t Epoch: 121 | Loss: 0.434  | Accuracy: 100.00%\n",
            "\t Epoch: 122 | Loss: 0.427  | Accuracy: 100.00%\n",
            "\t Epoch: 123 | Loss: 0.419  | Accuracy: 100.00%\n",
            "\t Epoch: 124 | Loss: 0.412  | Accuracy: 100.00%\n",
            "\t Epoch: 125 | Loss: 0.405  | Accuracy: 100.00%\n",
            "\t Epoch: 126 | Loss: 0.398  | Accuracy: 100.00%\n",
            "\t Epoch: 127 | Loss: 0.391  | Accuracy: 100.00%\n",
            "\t Epoch: 128 | Loss: 0.384  | Accuracy: 100.00%\n",
            "\t Epoch: 129 | Loss: 0.377  | Accuracy: 100.00%\n",
            "\t Epoch: 130 | Loss: 0.371  | Accuracy: 100.00%\n",
            "\t Epoch: 131 | Loss: 0.364  | Accuracy: 100.00%\n",
            "\t Epoch: 132 | Loss: 0.358  | Accuracy: 100.00%\n",
            "\t Epoch: 133 | Loss: 0.351  | Accuracy: 100.00%\n",
            "\t Epoch: 134 | Loss: 0.345  | Accuracy: 100.00%\n",
            "\t Epoch: 135 | Loss: 0.339  | Accuracy: 100.00%\n",
            "\t Epoch: 136 | Loss: 0.333  | Accuracy: 100.00%\n",
            "\t Epoch: 137 | Loss: 0.327  | Accuracy: 100.00%\n",
            "\t Epoch: 138 | Loss: 0.321  | Accuracy: 100.00%\n",
            "\t Epoch: 139 | Loss: 0.315  | Accuracy: 100.00%\n",
            "\t Epoch: 140 | Loss: 0.309  | Accuracy: 100.00%\n",
            "\t Epoch: 141 | Loss: 0.304  | Accuracy: 100.00%\n",
            "\t Epoch: 142 | Loss: 0.299  | Accuracy: 100.00%\n",
            "\t Epoch: 143 | Loss: 0.293  | Accuracy: 100.00%\n",
            "\t Epoch: 144 | Loss: 0.288  | Accuracy: 100.00%\n",
            "\t Epoch: 145 | Loss: 0.283  | Accuracy: 100.00%\n",
            "\t Epoch: 146 | Loss: 0.278  | Accuracy: 100.00%\n",
            "\t Epoch: 147 | Loss: 0.273  | Accuracy: 100.00%\n",
            "\t Epoch: 148 | Loss: 0.268  | Accuracy: 100.00%\n",
            "\t Epoch: 149 | Loss: 0.264  | Accuracy: 100.00%\n",
            "\t Epoch: 150 | Loss: 0.259  | Accuracy: 100.00%\n",
            "\t Epoch: 151 | Loss: 0.254  | Accuracy: 100.00%\n",
            "\t Epoch: 152 | Loss: 0.250  | Accuracy: 100.00%\n",
            "\t Epoch: 153 | Loss: 0.246  | Accuracy: 100.00%\n",
            "\t Epoch: 154 | Loss: 0.241  | Accuracy: 100.00%\n",
            "\t Epoch: 155 | Loss: 0.237  | Accuracy: 100.00%\n",
            "\t Epoch: 156 | Loss: 0.233  | Accuracy: 100.00%\n",
            "\t Epoch: 157 | Loss: 0.229  | Accuracy: 100.00%\n",
            "\t Epoch: 158 | Loss: 0.225  | Accuracy: 100.00%\n",
            "\t Epoch: 159 | Loss: 0.222  | Accuracy: 100.00%\n",
            "\t Epoch: 160 | Loss: 0.218  | Accuracy: 100.00%\n",
            "\t Epoch: 161 | Loss: 0.214  | Accuracy: 100.00%\n",
            "\t Epoch: 162 | Loss: 0.211  | Accuracy: 100.00%\n",
            "\t Epoch: 163 | Loss: 0.207  | Accuracy: 100.00%\n",
            "\t Epoch: 164 | Loss: 0.204  | Accuracy: 100.00%\n",
            "\t Epoch: 165 | Loss: 0.201  | Accuracy: 100.00%\n",
            "\t Epoch: 166 | Loss: 0.198  | Accuracy: 100.00%\n",
            "\t Epoch: 167 | Loss: 0.194  | Accuracy: 100.00%\n",
            "\t Epoch: 168 | Loss: 0.191  | Accuracy: 100.00%\n",
            "\t Epoch: 169 | Loss: 0.188  | Accuracy: 100.00%\n",
            "\t Epoch: 170 | Loss: 0.185  | Accuracy: 100.00%\n",
            "\t Epoch: 171 | Loss: 0.182  | Accuracy: 100.00%\n",
            "\t Epoch: 172 | Loss: 0.180  | Accuracy: 100.00%\n",
            "\t Epoch: 173 | Loss: 0.177  | Accuracy: 100.00%\n",
            "\t Epoch: 174 | Loss: 0.174  | Accuracy: 100.00%\n",
            "\t Epoch: 175 | Loss: 0.172  | Accuracy: 100.00%\n",
            "\t Epoch: 176 | Loss: 0.169  | Accuracy: 100.00%\n",
            "\t Epoch: 177 | Loss: 0.166  | Accuracy: 100.00%\n",
            "\t Epoch: 178 | Loss: 0.164  | Accuracy: 100.00%\n",
            "\t Epoch: 179 | Loss: 0.162  | Accuracy: 100.00%\n",
            "\t Epoch: 180 | Loss: 0.159  | Accuracy: 100.00%\n",
            "\t Epoch: 181 | Loss: 0.157  | Accuracy: 100.00%\n",
            "\t Epoch: 182 | Loss: 0.155  | Accuracy: 100.00%\n",
            "\t Epoch: 183 | Loss: 0.153  | Accuracy: 100.00%\n",
            "\t Epoch: 184 | Loss: 0.150  | Accuracy: 100.00%\n",
            "\t Epoch: 185 | Loss: 0.148  | Accuracy: 100.00%\n",
            "\t Epoch: 186 | Loss: 0.146  | Accuracy: 100.00%\n",
            "\t Epoch: 187 | Loss: 0.144  | Accuracy: 100.00%\n",
            "\t Epoch: 188 | Loss: 0.142  | Accuracy: 100.00%\n",
            "\t Epoch: 189 | Loss: 0.140  | Accuracy: 100.00%\n",
            "\t Epoch: 190 | Loss: 0.138  | Accuracy: 100.00%\n",
            "\t Epoch: 191 | Loss: 0.137  | Accuracy: 100.00%\n",
            "\t Epoch: 192 | Loss: 0.135  | Accuracy: 100.00%\n",
            "\t Epoch: 193 | Loss: 0.133  | Accuracy: 100.00%\n",
            "\t Epoch: 194 | Loss: 0.131  | Accuracy: 100.00%\n",
            "\t Epoch: 195 | Loss: 0.129  | Accuracy: 100.00%\n",
            "\t Epoch: 196 | Loss: 0.128  | Accuracy: 100.00%\n",
            "\t Epoch: 197 | Loss: 0.126  | Accuracy: 100.00%\n",
            "\t Epoch: 198 | Loss: 0.125  | Accuracy: 100.00%\n",
            "\t Epoch: 199 | Loss: 0.123  | Accuracy: 100.00%\n",
            "\t Epoch: 200 | Loss: 0.121  | Accuracy: 100.00%\n"
          ]
        }
      ],
      "source": [
        "EMBEDDING_DIM = 6\n",
        "HIDDEN_DIM = 6\n",
        "accuracy_list = []\n",
        "loss_list = []\n",
        "\n",
        "# notre modèle, notre loss et notre optimizer\n",
        "model = RecurrentTagger(EMBEDDING_DIM, HIDDEN_DIM, len(word_to_ix), len(tag_to_ix))\n",
        "loss_function = nn.NLLLoss()\n",
        "optimizer = optim.SGD(model.parameters(), lr=0.1)\n",
        "\n",
        "# on regarde les score avant le training (on met torch.no_grad() pour ne pas entrainer)\n",
        "# on obtient en sortie (tag_scores) le score pour le tag j du mot i\n",
        "with torch.no_grad():\n",
        "    inputs = prepare_sequence(training_data[0][0], word_to_ix)\n",
        "    tag_scores = model(inputs)\n",
        "    #print(\"tag_scores avant training : \", tag_scores)\n",
        "\n",
        "for epoch in range(200):  # again, normally you would NOT do 300 epochs, it is toy data\n",
        "    for sentence, tags in training_data:\n",
        "        # Get our inputs ready for the network\n",
        "        inputs = prepare_sequence(sentence, word_to_ix)\n",
        "        targets = prepare_sequence(tags, tag_to_ix)\n",
        "\n",
        "        # initialisation de la LOSS et l'ACCURACY\n",
        "        accuracy = 0.0\n",
        "        loss=0.0\n",
        "\n",
        "        # Step 1. Remember that Pytorch accumulates gradients.\n",
        "        # We need to clear them out before each instance \n",
        "        model.zero_grad()\n",
        "\n",
        "        # Step2: Also, we need to clear out the hidden state of the recurrent net,\n",
        "        # detaching it from its history on the last instance.\n",
        "        model.init_hidden()\n",
        "\n",
        "        # Step 3. Run our forward pass.\n",
        "        tag_scores = model(inputs)\n",
        "\n",
        "        # Step 4. Compute the loss, gradients, and update the parameters by\n",
        "        #  calling optimizer.step()\n",
        "        loss = loss_function(tag_scores, targets)\n",
        "        loss.backward()\n",
        "        optimizer.step()\n",
        "\n",
        "        #Step 5. Calcul accuracy \n",
        "        accuracy += torch.mean(torch.tensor(targets == tag_scores.argmax(dim=1), dtype=torch.float))\n",
        "\n",
        "    print(f'\\t Epoch: {epoch+1:02} | Loss: {loss:.3f}  | Accuracy: {accuracy*100:.2f}%')\n",
        "    accuracy_list.append(float(accuracy)) \n",
        "    loss_list.append(float(loss))"
      ]
    },
    {
      "cell_type": "code",
      "execution_count": null,
      "metadata": {
        "colab": {
          "base_uri": "https://localhost:8080/",
          "height": 299
        },
        "id": "2Yll6QpGBKWa",
        "outputId": "93f2cf9b-489c-4b60-e331-8dd2a8603f04"
      },
      "outputs": [
        {
          "data": {
            "image/png": "[encoded data removed]",
            "text/plain": [
              "<Figure size 432x288 with 1 Axes>"
            ]
          },
          "metadata": {
            "tags": []
          },
          "output_type": "display_data"
        }
      ],
      "source": [
        "# Graphiques\n",
        "\n",
        "plt.style.use(\"ggplot\")\n",
        "plt.figure()\n",
        "plt.plot(numpy.arange(0,200),accuracy_list,label=\"accuracy\")\n",
        "plt.title(\"Accuracy\")\n",
        "plt.xlabel(\"Epoch #\")\n",
        "plt.ylabel(\"Accuracy\")\n",
        "plt.show()"
      ]
    },
    {
      "cell_type": "code",
      "execution_count": null,
      "metadata": {
        "colab": {
          "base_uri": "https://localhost:8080/",
          "height": 299
        },
        "id": "Ku8Xw1wnBalw",
        "outputId": "23f09b1e-ae72-483b-ddd9-32353b0e0bb7"
      },
      "outputs": [
        {
          "data": {
            "image/png": "[encoded data removed]",
            "text/plain": [
              "<Figure size 432x288 with 1 Axes>"
            ]
          },
          "metadata": {
            "tags": []
          },
          "output_type": "display_data"
        }
      ],
      "source": [
        "plt.style.use(\"ggplot\")\n",
        "plt.figure()\n",
        "plt.plot(numpy.arange(0,200),loss_list,label=\"loss\",c=\"blue\")\n",
        "plt.title(\"Loss\")\n",
        "plt.xlabel(\"Epoch #\")\n",
        "plt.ylabel(\"Loss\")\n",
        "plt.show()"
      ]
    },
    {
      "cell_type": "code",
      "execution_count": null,
      "metadata": {
        "colab": {
          "base_uri": "https://localhost:8080/",
          "height": 88
        },
        "id": "EtLGPy1B6uRM",
        "outputId": "b4610836-14c1-4502-d19d-e7682a350df1"
      },
      "outputs": [
        {
          "name": "stdout",
          "output_type": "stream",
          "text": [
            "Pour la première phrase, les tags devraient être :  tensor([0, 1, 2, 0, 1])\n",
            "les indices max associés aux tags estimés sont : tensor([0, 1, 2, 0, 1])\n",
            "Pour la deuxième phrase, les tags devraient être:  tensor([1, 2, 0, 1])\n",
            "Les indices max associés aux tags estimés sont : tensor([1, 2, 0, 1])\n"
          ]
        }
      ],
      "source": [
        "# Comparons les résulats à l'attendu \n",
        "\n",
        "with torch.no_grad():\n",
        "    inputs = prepare_sequence(training_data[0][0], word_to_ix)\n",
        "    tag_scores = model(inputs)\n",
        "    #print(\"Les tag_scores après training : \", tag_scores)\n",
        "    #print(\"La première phrase : \", inputs)\n",
        "    print(\"Pour la première phrase, les tags devraient être : \",prepare_sequence(training_data[0][1], tag_to_ix))\n",
        "    print(\"les indices max associés aux tags estimés sont :\", torch.max(tag_scores, 1).indices) #pour le mot i, les tags_scores sont les maximum\n",
        "    \n",
        "    inputs = prepare_sequence(training_data[1][0], word_to_ix)\n",
        "    tag_scores = model(inputs)\n",
        "    #print(\"Les tag_scores après training : \", tag_scores)\n",
        "    #print(\"La deuxième phrase : \", inputs)\n",
        "    print(\"Pour la deuxième phrase, les tags devraient être: \",prepare_sequence(training_data[1][1], tag_to_ix))\n",
        "    print(\"Les indices max associés aux tags estimés sont :\", torch.max(tag_scores, 1).indices) #pour le mot i, les tags_scores sont les maximum\n",
        "\n",
        "\n",
        "# Comme on l'a vu plus haut, pour la première phrase\n",
        "# Words dict:  {'The': 0, 'dog': 1, 'ate': 2, 'the': 3, 'apple': 4, 'Everybody': 5, 'read': 6, 'that': 7, 'book': 8}\n",
        "# Tags  dict:  {'DET': 0, 'NN': 1, 'V': 2}\n",
        "# The sentence :  tensor([0, 1, 2, 3, 4])\n",
        "# The tag seq. :  tensor([0, 1, 2, 0, 1]) \n",
        "# On retrouve bien [0, 1, 2, 0, 1]) pour les tags estimés"
      ]
    },
    {
      "cell_type": "markdown",
      "metadata": {
        "id": "a_2Z-coyJH70"
      },
      "source": [
        "# A real task\n",
        "Load the following dataset"
      ]
    },
    {
      "cell_type": "code",
      "execution_count": null,
      "metadata": {
        "colab": {
          "base_uri": "https://localhost:8080/",
          "height": 126
        },
        "id": "WSnUkizaJf0q",
        "outputId": "1e08140c-d971-4f20-d1a7-b3f79d42c7b9"
      },
      "outputs": [
        {
          "name": "stdout",
          "output_type": "stream",
          "text": [
            "Go to this URL in a browser: https://accounts.google.com/o/oauth2/auth?client_id=947318989803-6bn6qk8qdgf4n4g3pfee6491hc0brc4i.apps.googleusercontent.com&redirect_uri=urn%3aietf%3awg%3aoauth%3a2.0%3aoob&response_type=code&scope=email%20https%3a%2f%2fwww.googleapis.com%2fauth%2fdocs.test%20https%3a%2f%2fwww.googleapis.com%2fauth%2fdrive%20https%3a%2f%2fwww.googleapis.com%2fauth%2fdrive.photos.readonly%20https%3a%2f%2fwww.googleapis.com%2fauth%2fpeopleapi.readonly\n",
            "\n",
            "Enter your authorization code:\n",
            "··········\n",
            "Mounted at /content/drive\n"
          ]
        }
      ],
      "source": [
        "from google.colab import drive\n",
        "drive.mount('/content/drive')"
      ]
    },
    {
      "cell_type": "code",
      "execution_count": null,
      "metadata": {
        "id": "Ec9jbNusJH71"
      },
      "outputs": [],
      "source": [
        "import pickle\n",
        "mydata = pickle.load(open(\"/content/drive/My Drive/Colab Notebooks/NLP/brown.postag.dataset.p\", \"rb\" ) )\n",
        "#mydata = pickle.load(open(\"brown.postag.dataset.p\", \"rb\" ) )"
      ]
    },
    {
      "cell_type": "markdown",
      "metadata": {
        "id": "A1O5M27gJH74"
      },
      "source": [
        "Look at the data, process it as required and then: \n",
        "* Spit the dataset in 3 sets:  train / validation / test (80%,10%,10%)\n",
        "* Learn the model and test it \n",
        "* Tune the hyperparameters. What is the best score you can obtain ? \n",
        "* Start again with a bi-lstm\n"
      ]
    },
    {
      "cell_type": "code",
      "execution_count": null,
      "metadata": {
        "colab": {
          "base_uri": "https://localhost:8080/",
          "height": 90
        },
        "id": "kUqfEeWBJH75",
        "outputId": "5e1fd05e-9f02-46e4-9002-ad1f0c662525"
      },
      "outputs": [
        {
          "name": "stdout",
          "output_type": "stream",
          "text": [
            "Le nombre d'éléments est :  57340\n",
            "le type des éléments est :  <class 'list'>\n",
            "voici le premier élément :  (['The', 'Fulton', 'County', 'Grand', 'Jury', 'said', 'Friday', 'an', 'investigation', 'of', \"Atlanta's\", 'recent', 'primary', 'election', 'produced', '``', 'no', 'evidence', \"''\", 'that', 'any', 'irregularities', 'took', 'place', '.'], ['DET', 'NOUN', 'NOUN', 'ADJ', 'NOUN', 'VERB', 'NOUN', 'DET', 'NOUN', 'ADP', 'NOUN', 'ADJ', 'NOUN', 'NOUN', 'VERB', '.', 'DET', 'NOUN', '.', 'ADP', 'DET', 'NOUN', 'VERB', 'NOUN', '.'])\n"
          ]
        }
      ],
      "source": [
        "# commençons par regarder un peu les données récupérées\n",
        "\n",
        "print(\"Le nombre d'éléments est : \", len(mydata))\n",
        "print(\"le type des éléments est : \", type(mydata))\n",
        "print(\"voici le premier élément : \", mydata[0])"
      ]
    },
    {
      "cell_type": "code",
      "execution_count": null,
      "metadata": {
        "colab": {
          "base_uri": "https://localhost:8080/",
          "height": 250
        },
        "id": "yL3MHU75JH78",
        "outputId": "bc7ea15a-af96-4245-bf67-9007df701d95"
      },
      "outputs": [
        {
          "name": "stdout",
          "output_type": "stream",
          "text": [
            "Les mots de la 1ère phrase sont :  ['The', 'Fulton', 'County', 'Grand', 'Jury', 'said', 'Friday', 'an', 'investigation', 'of', \"Atlanta's\", 'recent', 'primary', 'election', 'produced', '``', 'no', 'evidence', \"''\", 'that', 'any', 'irregularities', 'took', 'place', '.'] \n",
            "\n",
            "Les tags de la première phase sont :  ['DET', 'NOUN', 'NOUN', 'ADJ', 'NOUN', 'VERB', 'NOUN', 'DET', 'NOUN', 'ADP', 'NOUN', 'ADJ', 'NOUN', 'NOUN', 'VERB', '.', 'DET', 'NOUN', '.', 'ADP', 'DET', 'NOUN', 'VERB', 'NOUN', '.'] \n",
            "\n",
            "Les index associés à la 1ère phrase sont :  tensor([ 0,  1,  2,  3,  4,  5,  6,  7,  8,  9, 10, 11, 12, 13, 14, 15, 16, 17,\n",
            "        18, 19, 20, 21, 22, 23, 24])\n",
            "Les index associés aux tags de la 1ère phrase sont :  tensor([0, 1, 1, 2, 1, 3, 1, 0, 1, 4, 1, 2, 1, 1, 3, 5, 0, 1, 5, 4, 0, 1, 3, 1,\n",
            "        5])\n",
            "\n",
            " la taille du vocabulaire est :  56057\n",
            "\n",
            " le nombre de tags est :  12\n"
          ]
        }
      ],
      "source": [
        "# Comme auparavant, on va commencer à créer les dictionnaires pour les mots du vocabulaire\n",
        "# et aussi pour les tags\n",
        "\n",
        "#The dictionnary : word -> index\n",
        "\n",
        "word_to_ix = {}\n",
        "tag_to_ix = {}\n",
        "\n",
        "for sent, tags in mydata:\n",
        "    for word in sent:\n",
        "        if word not in word_to_ix:\n",
        "            word_to_ix[word] = len(word_to_ix)\n",
        "    for tag in tags:\n",
        "        if tag not in tag_to_ix:\n",
        "            tag_to_ix[tag] = len(tag_to_ix)\n",
        "\n",
        "            \n",
        "def prepare_sequence(seq, to_ix):\n",
        "    idxs = [to_ix[w] for w in seq]\n",
        "    tensor = torch.LongTensor(idxs)\n",
        "    return tensor\n",
        "\n",
        "\n",
        "# visualisation des qq données\n",
        "\n",
        "print(\"Les mots de la 1ère phrase sont : \", mydata[0][0], \"\\n\")\n",
        "print(\"Les tags de la première phase sont : \", mydata[0][1], \"\\n\")\n",
        "\n",
        "print(\"Les index associés à la 1ère phrase sont : \", prepare_sequence(mydata[0][0],word_to_ix))\n",
        "print(\"Les index associés aux tags de la 1ère phrase sont : \", prepare_sequence(mydata[0][1],tag_to_ix))\n",
        "\n",
        "print(\"\\n la taille du vocabulaire est : \", len(word_to_ix))\n",
        "print(\"\\n le nombre de tags est : \", len(tag_to_ix))"
      ]
    },
    {
      "cell_type": "markdown",
      "metadata": {
        "id": "heGKQWjl5LuB"
      },
      "source": [
        "### Séparation du dataset"
      ]
    },
    {
      "cell_type": "code",
      "execution_count": null,
      "metadata": {
        "colab": {
          "base_uri": "https://localhost:8080/",
          "height": 70
        },
        "id": "J5EveXVdJH7_",
        "outputId": "effba92a-dc8c-4c0e-b30c-a082e5ace127"
      },
      "outputs": [
        {
          "name": "stdout",
          "output_type": "stream",
          "text": [
            "45872\n",
            "5734\n",
            "5734\n"
          ]
        }
      ],
      "source": [
        "# le nombre de données est donné par len(mydata), et est égale à 57340\n",
        "# on va diviser les données d'entrée en \n",
        "# 80% training (soit 45872)\n",
        "# 10% validation (soit 5734)\n",
        "# 10% test (soir 5734)\n",
        "#on ne fait pas en random pour garder les phrases entières\n",
        "\n",
        "trainingSet=mydata[:len(mydata)*80//100]\n",
        "print(len(trainingSet))\n",
        "\n",
        "validationSet=mydata[len(mydata)*80//100:len(mydata)*90//100]\n",
        "print(len(validationSet))\n",
        "\n",
        "testSet=mydata[len(mydata)*90//100:]\n",
        "print(len(testSet))\n"
      ]
    },
    {
      "cell_type": "markdown",
      "metadata": {
        "id": "ChxfAVM_5Y_C"
      },
      "source": [
        "### Training du modèle"
      ]
    },
    {
      "cell_type": "code",
      "execution_count": null,
      "metadata": {
        "colab": {
          "base_uri": "https://localhost:8080/",
          "height": 250
        },
        "id": "pn3vpqqJRp54",
        "outputId": "571beee9-b860-4da0-fc88-720ae0da5ccf"
      },
      "outputs": [
        {
          "name": "stderr",
          "output_type": "stream",
          "text": [
            "/usr/local/lib/python3.6/dist-packages/ipykernel_launcher.py:50: UserWarning: To copy construct from a tensor, it is recommended to use sourceTensor.clone().detach() or sourceTensor.clone().detach().requires_grad_(True), rather than torch.tensor(sourceTensor).\n",
            "/usr/local/lib/python3.6/dist-packages/ipykernel_launcher.py:70: UserWarning: To copy construct from a tensor, it is recommended to use sourceTensor.clone().detach() or sourceTensor.clone().detach().requires_grad_(True), rather than torch.tensor(sourceTensor).\n"
          ]
        },
        {
          "name": "stdout",
          "output_type": "stream",
          "text": [
            "\t Epoch: 01 | Train Loss: 0.583 | val loss:0.943 | Train Accuracy: 78.95% | val Accuracy: 52.38%\n",
            "\t Epoch: 02 | Train Loss: 0.375 | val loss:0.893 | Train Accuracy: 89.47% | val Accuracy: 57.14%\n",
            "\t Epoch: 03 | Train Loss: 0.361 | val loss:0.912 | Train Accuracy: 84.21% | val Accuracy: 57.14%\n",
            "\t Epoch: 04 | Train Loss: 0.286 | val loss:0.904 | Train Accuracy: 84.21% | val Accuracy: 57.14%\n",
            "\t Epoch: 05 | Train Loss: 0.248 | val loss:0.915 | Train Accuracy: 89.47% | val Accuracy: 61.90%\n",
            "\t Epoch: 06 | Train Loss: 0.200 | val loss:1.078 | Train Accuracy: 94.74% | val Accuracy: 71.43%\n",
            "\t Epoch: 07 | Train Loss: 0.182 | val loss:1.104 | Train Accuracy: 100.00% | val Accuracy: 71.43%\n",
            "\t Epoch: 08 | Train Loss: 0.182 | val loss:1.177 | Train Accuracy: 94.74% | val Accuracy: 71.43%\n",
            "\t Epoch: 09 | Train Loss: 0.167 | val loss:1.227 | Train Accuracy: 94.74% | val Accuracy: 71.43%\n",
            "\t Epoch: 10 | Train Loss: 0.151 | val loss:1.123 | Train Accuracy: 94.74% | val Accuracy: 71.43%\n"
          ]
        }
      ],
      "source": [
        "EMBEDDING_DIM = 6 \n",
        "HIDDEN_DIM = 6\n",
        "accuracy_list = []\n",
        "loss_list = []\n",
        "val_accuracy_list = []\n",
        "val_loss_list = []\n",
        "\n",
        "# notre modèle, notre loss et notre optimizer\n",
        "model = RecurrentTagger(EMBEDDING_DIM, HIDDEN_DIM, len(word_to_ix), len(tag_to_ix))\n",
        "loss_function = nn.NLLLoss()\n",
        "optimizer = optim.SGD(model.parameters(), lr=0.1) \n",
        "\n",
        "# on regarde les score avant le training (on met torch.no_grad() pour ne pas entrainter)\n",
        "# on obient en sortie (tag_scores) le score pour le tag j du mot i\n",
        "with torch.no_grad():\n",
        "    inputs = prepare_sequence(trainingSet[0][0], word_to_ix)\n",
        "    tag_scores = model(inputs)\n",
        "    #print(\"tag_scores avant training : \", tag_scores)\n",
        "\n",
        "for epoch in range(10):  \n",
        "    for sentence, tags in trainingSet:\n",
        "        # Get our inputs ready for the network\n",
        "        inputs = prepare_sequence(sentence, word_to_ix)\n",
        "        targets = prepare_sequence(tags, tag_to_ix)\n",
        "\n",
        "        # initialisation de la LOSS et l'ACCURACY\n",
        "        accuracy = 0.0\n",
        "        loss=0.0\n",
        "        val_accuracy=0.0\n",
        "        val_loss=0.0\n",
        "  \n",
        "        # Step 1. Remember that Pytorch accumulates gradients.\n",
        "        # We need to clear them out before each instance \n",
        "        model.zero_grad()\n",
        "\n",
        "        # Step2: Also, we need to clear out the hidden state of the recurrent net,\n",
        "        # detaching it from its history on the last instance.\n",
        "        model.init_hidden()\n",
        "\n",
        "        # Step 3. Run our forward pass.\n",
        "        tag_scores = model(inputs)\n",
        "\n",
        "        # Step 4. Compute the loss, gradients, and update the parameters by\n",
        "        #  calling optimizer.step()\n",
        "        loss = loss_function(tag_scores, targets)\n",
        "        loss.backward()\n",
        "        optimizer.step()\n",
        "\n",
        "        #Step 5. Calcul accuracy      \n",
        "        accuracy += torch.mean(torch.tensor(targets == tag_scores.argmax(dim=1), dtype=torch.float)) \n",
        "\n",
        "#validation set\n",
        "    with torch.no_grad():\n",
        "        for sentence, tags in validationSet:\n",
        "            # Get our inputs ready for the network\n",
        "            inputs = prepare_sequence(sentence, word_to_ix)\n",
        "            targets = prepare_sequence(tags, tag_to_ix)\n",
        "\n",
        "            # initialisation de l'ACCURACY\n",
        "            val_accuracy = 0.0\n",
        "            \n",
        "            # Step 3. Run our forward pass.\n",
        "            tag_scores = model(inputs)\n",
        "\n",
        "            # Step 4. Compute the loss, gradients, and update the parameters by\n",
        "            #  calling optimizer.step()\n",
        "            val_loss = loss_function(tag_scores, targets)\n",
        "      \n",
        "            #Step 5. Calcul accuracy      \n",
        "            val_accuracy += torch.mean(torch.tensor(targets == tag_scores.argmax(dim=1), dtype=torch.float))\n",
        "\n",
        "    print(f'\\t Epoch: {epoch+1:02} | Train Loss: {loss:.3f} | val loss:{val_loss:.3f} | Train Accuracy: {accuracy*100:.2f}% | val Accuracy: {val_accuracy*100:.2f}%')\n",
        "    accuracy_list.append(float(accuracy))\n",
        "    val_accuracy_list.append(float(val_accuracy)) \n",
        "    loss_list.append(float(loss))\n",
        "    val_loss_list.append(float(val_loss))"
      ]
    },
    {
      "cell_type": "code",
      "execution_count": null,
      "metadata": {
        "colab": {
          "base_uri": "https://localhost:8080/",
          "height": 299
        },
        "id": "g8RQ4UQjS3PU",
        "outputId": "2a6e997c-d33a-4f27-8458-8fbddef37003"
      },
      "outputs": [
        {
          "data": {
            "image/png": "[encoded data removed]",
            "text/plain": [
              "<Figure size 432x288 with 1 Axes>"
            ]
          },
          "metadata": {
            "tags": []
          },
          "output_type": "display_data"
        }
      ],
      "source": [
        "plt.style.use(\"ggplot\")\n",
        "plt.figure()\n",
        "plt.plot(numpy.arange(0,10),accuracy_list,label=\"train_acc\")\n",
        "plt.plot(numpy.arange(0,10),val_accuracy_list,label=\"val_acc\")\n",
        "plt.title(\"Training and Validation Accuracy\")\n",
        "plt.xlabel(\"Epoch #\")\n",
        "plt.ylabel(\"Accuracy\")\n",
        "plt.legend(loc=\"lower right\")\n",
        "plt.show()"
      ]
    },
    {
      "cell_type": "code",
      "execution_count": null,
      "metadata": {
        "colab": {
          "base_uri": "https://localhost:8080/",
          "height": 299
        },
        "id": "xVSrmu0LRA1i",
        "outputId": "f020ee3e-46ed-4f66-bb53-5ef07ead1fc2"
      },
      "outputs": [
        {
          "data": {
            "image/png": "[encoded data removed]",
            "text/plain": [
              "<Figure size 432x288 with 1 Axes>"
            ]
          },
          "metadata": {
            "tags": []
          },
          "output_type": "display_data"
        }
      ],
      "source": [
        "plt.style.use(\"ggplot\")\n",
        "plt.figure()\n",
        "plt.plot(numpy.arange(0,10),loss_list,label=\"train_loss\",)\n",
        "plt.plot(numpy.arange(0,10),val_loss_list,label=\"val_loss\")\n",
        "plt.title(\"Training and Validation Loss\")\n",
        "plt.xlabel(\"Epoch #\")\n",
        "plt.ylabel(\"Loss\")\n",
        "plt.legend(loc=\"lower right\")\n",
        "plt.show()"
      ]
    },
    {
      "cell_type": "markdown",
      "metadata": {
        "id": "-Cm8IrSm6ujx"
      },
      "source": [
        "La loss du dataset de validation remonte à partir de 4 epochs. Le modèle semble overfitter."
      ]
    },
    {
      "cell_type": "markdown",
      "metadata": {
        "id": "hmHXX2SZ6Fpf"
      },
      "source": [
        "### Essai d'optimisation du modèle en changeant les hyperparamètres et l'optimizer"
      ]
    },
    {
      "cell_type": "code",
      "execution_count": null,
      "metadata": {
        "colab": {
          "base_uri": "https://localhost:8080/",
          "height": 250
        },
        "id": "MPl5s7tx3_aQ",
        "outputId": "29b60310-5947-420d-eedf-a267c142de9d"
      },
      "outputs": [
        {
          "name": "stderr",
          "output_type": "stream",
          "text": [
            "/usr/local/lib/python3.6/dist-packages/ipykernel_launcher.py:51: UserWarning: To copy construct from a tensor, it is recommended to use sourceTensor.clone().detach() or sourceTensor.clone().detach().requires_grad_(True), rather than torch.tensor(sourceTensor).\n",
            "/usr/local/lib/python3.6/dist-packages/ipykernel_launcher.py:61: UserWarning: To copy construct from a tensor, it is recommended to use sourceTensor.clone().detach() or sourceTensor.clone().detach().requires_grad_(True), rather than torch.tensor(sourceTensor).\n"
          ]
        },
        {
          "name": "stdout",
          "output_type": "stream",
          "text": [
            "\t Epoch: 01 | Train Loss: 0.137 | val loss:0.714 | Train Accuracy: 100.00% | val Accuracy: 71.43%\n",
            "\t Epoch: 02 | Train Loss: 0.101 | val loss:0.673 | Train Accuracy: 100.00% | val Accuracy: 71.43%\n",
            "\t Epoch: 03 | Train Loss: 0.089 | val loss:0.670 | Train Accuracy: 100.00% | val Accuracy: 76.19%\n",
            "\t Epoch: 04 | Train Loss: 0.087 | val loss:0.633 | Train Accuracy: 100.00% | val Accuracy: 76.19%\n",
            "\t Epoch: 05 | Train Loss: 0.094 | val loss:0.611 | Train Accuracy: 94.74% | val Accuracy: 76.19%\n",
            "\t Epoch: 06 | Train Loss: 0.105 | val loss:0.604 | Train Accuracy: 94.74% | val Accuracy: 80.95%\n",
            "\t Epoch: 07 | Train Loss: 0.109 | val loss:0.604 | Train Accuracy: 94.74% | val Accuracy: 80.95%\n",
            "\t Epoch: 08 | Train Loss: 0.109 | val loss:0.599 | Train Accuracy: 94.74% | val Accuracy: 80.95%\n",
            "\t Epoch: 09 | Train Loss: 0.108 | val loss:0.616 | Train Accuracy: 94.74% | val Accuracy: 80.95%\n",
            "\t Epoch: 10 | Train Loss: 0.109 | val loss:0.607 | Train Accuracy: 94.74% | val Accuracy: 80.95%\n"
          ]
        }
      ],
      "source": [
        "#changement d'optimizer et des dimensions\n",
        "EMBEDDING_DIM = 12\n",
        "HIDDEN_DIM = 12\n",
        "accuracy_list = []\n",
        "loss_list = []\n",
        "val_accuracy_list = []\n",
        "val_loss_list = []\n",
        "\n",
        "# notre modèle, notre loss et notre optimizer\n",
        "model = RecurrentTagger(EMBEDDING_DIM, HIDDEN_DIM, len(word_to_ix), len(tag_to_ix))\n",
        "loss_function = nn.NLLLoss()\n",
        "optimizer = optim.Adam(model.parameters()) \n",
        "\n",
        "# on regarde les score avant le training (on met torch.no_grad() pour ne pas entrainer)\n",
        "# on obient en sortie (tag_scores) le score pour le tag j du mot i\n",
        "with torch.no_grad():\n",
        "    inputs = prepare_sequence(trainingSet[0][0], word_to_ix)\n",
        "    tag_scores = model(inputs)\n",
        "    #print(\"tag_scores avant training : \", tag_scores)\n",
        "\n",
        "for epoch in range(10):  # again, normally you would NOT do 300 epochs, it is toy data\n",
        "    for sentence, tags in trainingSet:\n",
        "        # Get our inputs ready for the network\n",
        "        inputs = prepare_sequence(sentence, word_to_ix)\n",
        "        targets = prepare_sequence(tags, tag_to_ix)\n",
        "        \n",
        "        # initialisation de la LOSS et l'ACCURACY\n",
        "        accuracy = 0.0\n",
        "        loss=0.0\n",
        "        val_accuracy=0.0\n",
        "        val_loss=0.0\n",
        "  \n",
        "        # Step 1. Remember that Pytorch accumulates gradients.\n",
        "        # We need to clear them out before each instance \n",
        "        model.zero_grad()\n",
        "\n",
        "        # Step2: Also, we need to clear out the hidden state of the recurrent net,\n",
        "        # detaching it from its history on the last instance.\n",
        "        model.init_hidden()\n",
        "\n",
        "        # Step 3. Run our forward pass.\n",
        "        tag_scores = model(inputs)\n",
        "\n",
        "        # Step 4. Compute the loss, gradients, and update the parameters by\n",
        "        #  calling optimizer.step()\n",
        "        loss = loss_function(tag_scores, targets)\n",
        "        loss.backward()\n",
        "        optimizer.step()\n",
        "\n",
        "        #Step 5. Calcul accuracy      \n",
        "        accuracy += torch.mean(torch.tensor(targets == tag_scores.argmax(dim=1), dtype=torch.float)) \n",
        "\n",
        "#validation set\n",
        "    with torch.no_grad():\n",
        "        for sentence, tags in validationSet:\n",
        "            inputs = prepare_sequence(sentence, word_to_ix)\n",
        "            targets = prepare_sequence(tags, tag_to_ix)\n",
        "            val_accuracy = 0.0\n",
        "            tag_scores = model(inputs)\n",
        "            val_loss = loss_function(tag_scores, targets) \n",
        "            val_accuracy += torch.mean(torch.tensor(targets == tag_scores.argmax(dim=1), dtype=torch.float))\n",
        "\n",
        "    print(f'\\t Epoch: {epoch+1:02} | Train Loss: {loss:.3f} | val loss:{val_loss:.3f} | Train Accuracy: {accuracy*100:.2f}% | val Accuracy: {val_accuracy*100:.2f}%')\n",
        "    accuracy_list.append(float(accuracy))\n",
        "    val_accuracy_list.append(float(val_accuracy)) \n",
        "    loss_list.append(float(loss))\n",
        "    val_loss_list.append(float(val_loss))"
      ]
    },
    {
      "cell_type": "code",
      "execution_count": null,
      "metadata": {
        "colab": {
          "base_uri": "https://localhost:8080/",
          "height": 299
        },
        "id": "FOMEw5gFjNb3",
        "outputId": "764d98ca-484f-436a-a951-eef92a2354b3"
      },
      "outputs": [
        {
          "data": {
            "image/png": "[encoded data removed]",
            "text/plain": [
              "<Figure size 432x288 with 1 Axes>"
            ]
          },
          "metadata": {
            "tags": []
          },
          "output_type": "display_data"
        }
      ],
      "source": [
        "plt.style.use(\"ggplot\")\n",
        "plt.figure()\n",
        "plt.plot(numpy.arange(0,10),accuracy_list,label=\"train_acc\")\n",
        "plt.plot(numpy.arange(0,10),val_accuracy_list,label=\"val_acc\")\n",
        "plt.title(\"Training and Validation Accuracy\")\n",
        "plt.xlabel(\"Epoch #\")\n",
        "plt.ylabel(\"Accuracy\")\n",
        "plt.legend(loc=\"lower right\")\n",
        "plt.show()"
      ]
    },
    {
      "cell_type": "code",
      "execution_count": null,
      "metadata": {
        "colab": {
          "base_uri": "https://localhost:8080/",
          "height": 299
        },
        "id": "TNjELgQhjNcB",
        "outputId": "74b5a7ae-d620-457f-dcda-855333b3b100"
      },
      "outputs": [
        {
          "data": {
            "image/png": "[encoded data removed]",
            "text/plain": [
              "<Figure size 432x288 with 1 Axes>"
            ]
          },
          "metadata": {
            "tags": []
          },
          "output_type": "display_data"
        }
      ],
      "source": [
        "plt.style.use(\"ggplot\")\n",
        "plt.figure()\n",
        "plt.plot(numpy.arange(0,10),loss_list,label=\"loss\",)\n",
        "plt.plot(numpy.arange(0,10),val_loss_list,label=\"val_loss\")\n",
        "plt.title(\"Training and Validation Loss\")\n",
        "plt.xlabel(\"Epoch #\")\n",
        "plt.ylabel(\"Loss\")\n",
        "plt.legend(loc=\"lower right\")\n",
        "plt.show()"
      ]
    },
    {
      "cell_type": "markdown",
      "metadata": {
        "id": "mtGz9DT5A6DU"
      },
      "source": [
        "Le modèle optimisé donne de meilleurs résultats, on conserve ce dernier.\n",
        "On va vérifier ses résultats sur le jeu de test ci-après.\n",
        "\n"
      ]
    },
    {
      "cell_type": "markdown",
      "metadata": {
        "id": "AfpbVZAm0YNN"
      },
      "source": [
        "### Résultat sur le dataset de Test"
      ]
    },
    {
      "cell_type": "code",
      "execution_count": null,
      "metadata": {
        "colab": {
          "base_uri": "https://localhost:8080/",
          "height": 90
        },
        "id": "-nHM_EkNzxwK",
        "outputId": "749a2773-ce43-4aa9-8363-df7cafbbea46"
      },
      "outputs": [
        {
          "name": "stderr",
          "output_type": "stream",
          "text": [
            "/usr/local/lib/python3.6/dist-packages/ipykernel_launcher.py:12: UserWarning: To copy construct from a tensor, it is recommended to use sourceTensor.clone().detach() or sourceTensor.clone().detach().requires_grad_(True), rather than torch.tensor(sourceTensor).\n",
            "  if sys.path[0] == '':\n"
          ]
        },
        {
          "name": "stdout",
          "output_type": "stream",
          "text": [
            "\t Test Loss: 0.579 |Test Accuracy: 87.50%\n"
          ]
        }
      ],
      "source": [
        "#Vérification sur test\n",
        "\n",
        "for sentence, tags in testSet:\n",
        "    # Get our inputs ready for the network\n",
        "    inputs = prepare_sequence(sentence, word_to_ix)\n",
        "    targets = prepare_sequence(tags, tag_to_ix)\n",
        "\n",
        "    # initialisation de la LOSS et l'ACCURACY\n",
        "    test_accuracy = 0.0\n",
        "    tag_scores = model(inputs)\n",
        "    test_loss = loss_function(tag_scores, targets)  \n",
        "    test_accuracy += torch.mean(torch.tensor(targets == tag_scores.argmax(dim=1), dtype=torch.float))\n",
        "\n",
        "print(f'\\t Test Loss: {test_loss:.3f} |Test Accuracy: {test_accuracy*100:.2f}%')"
      ]
    },
    {
      "cell_type": "markdown",
      "metadata": {
        "id": "6I7je7j1cLFT"
      },
      "source": [
        "Une accuracy de 97,5% sur le test nous semble un bon résultat :-)"
      ]
    },
    {
      "cell_type": "markdown",
      "metadata": {
        "id": "rggOUveTg2NS"
      },
      "source": [
        "# Bi LSTM"
      ]
    },
    {
      "cell_type": "markdown",
      "metadata": {
        "id": "yXKv-Yv1TL5k"
      },
      "source": [
        "### Modèle"
      ]
    },
    {
      "cell_type": "code",
      "execution_count": null,
      "metadata": {
        "id": "5MnOvuk7FYlr",
        "outputId": "9b9228f7-3544-4058-e8ec-9d2e246b4ab5"
      },
      "outputs": [
        {
          "name": "stdout",
          "output_type": "stream",
          "text": [
            "45872\n",
            "5734\n",
            "5734\n"
          ]
        }
      ],
      "source": [
        "############### ré-import des données\n",
        "\n",
        "import pickle # for the real data \n",
        "import torch  # Torch + shortcuts\n",
        "import torch.autograd as autograd\n",
        "import torch.nn as nn\n",
        "import torch.nn.functional as F\n",
        "import torch.optim as optim\n",
        "torch.manual_seed(1) # To reproduce the experiments\n",
        "\n",
        "from torch.utils.data import DataLoader\n",
        "import torchvision.transforms as transforms\n",
        "\n",
        "import numpy as numpy\n",
        "import matplotlib.pyplot as plt\n",
        "\n",
        "import pickle\n",
        "#mydata = pickle.load(open(\"/content/drive/My Drive/Colab Notebooks/NLP/brown.postag.dataset.p\", \"rb\" ) )\n",
        "mydata = pickle.load(open(\"brown.postag.dataset.p\", \"rb\" ) )\n",
        "\n",
        "word_to_ix = {}\n",
        "tag_to_ix = {}\n",
        "\n",
        "for sent, tags in mydata:\n",
        "    for word in sent:\n",
        "        if word not in word_to_ix:\n",
        "            word_to_ix[word] = len(word_to_ix)\n",
        "    for tag in tags:\n",
        "        if tag not in tag_to_ix:\n",
        "            tag_to_ix[tag] = len(tag_to_ix)\n",
        "\n",
        "            \n",
        "def prepare_sequence(seq, to_ix):\n",
        "    idxs = [to_ix[w] for w in seq]\n",
        "    tensor = torch.LongTensor(idxs)\n",
        "    return tensor\n",
        "\n",
        "\n",
        "\n",
        "trainingSet=mydata[:len(mydata)*80//100]\n",
        "print(len(trainingSet))\n",
        "\n",
        "validationSet=mydata[len(mydata)*80//100:len(mydata)*90//100]\n",
        "print(len(validationSet))\n",
        "\n",
        "testSet=mydata[len(mydata)*90//100:]\n",
        "print(len(testSet))"
      ]
    },
    {
      "cell_type": "code",
      "execution_count": null,
      "metadata": {
        "id": "qnxy0RLvhjI3"
      },
      "outputs": [],
      "source": [
        "class BiLSTM(nn.Module):\n",
        "\n",
        "    def __init__(self, embedding_dim, hidden_dim, vocab_size, tagset_size):\n",
        "        super(BiLSTM, self).__init__()\n",
        "        self.hidden_dim = hidden_dim\n",
        "        self.word_embeddings = nn.Embedding(vocab_size, embedding_dim)\n",
        "        self.lstm = nn.LSTM(embedding_dim, hidden_dim,bidirectional=True) # on ajoute un paramètre bidirectional = True\n",
        "        self.hidden2tag = nn.Linear(hidden_dim * 2, tagset_size) # on double le nombre de hidden layers\n",
        "\n",
        "    def init_hidden(self):\n",
        "        return (torch.zeros(1, 1, self.hidden_dim*2), #on double les hidden layers\n",
        "                torch.zeros(1, 1, self.hidden_dim*2))        \n",
        "        \n",
        "    def forward(self, sentence):\n",
        "      embeds = self.word_embeddings(sentence)\n",
        "      lstm_out, _ = self.lstm(embeds.view(len(sentence), 1, -1))\n",
        "      tag_space = self.hidden2tag(lstm_out.view(len(sentence), -1))\n",
        "      #passage dans la couche linéaire\n",
        "      tag_scores = F.log_softmax(tag_space, dim=1)\n",
        "      return tag_scores"
      ]
    },
    {
      "cell_type": "markdown",
      "metadata": {
        "id": "704QbfDPTT2e"
      },
      "source": [
        "### Training 1 sur le modèle Bi-LSTM"
      ]
    },
    {
      "cell_type": "code",
      "execution_count": null,
      "metadata": {
        "id": "airgRcVNFYls",
        "outputId": "04f7ef25-2af2-4ed2-d272-8cb8f6ff04e4"
      },
      "outputs": [
        {
          "name": "stderr",
          "output_type": "stream",
          "text": [
            "C:\\Users\\Hyboui\\Anaconda3\\lib\\site-packages\\ipykernel_launcher.py:53: UserWarning: To copy construct from a tensor, it is recommended to use sourceTensor.clone().detach() or sourceTensor.clone().detach().requires_grad_(True), rather than torch.tensor(sourceTensor).\n",
            "C:\\Users\\Hyboui\\Anaconda3\\lib\\site-packages\\ipykernel_launcher.py:64: UserWarning: To copy construct from a tensor, it is recommended to use sourceTensor.clone().detach() or sourceTensor.clone().detach().requires_grad_(True), rather than torch.tensor(sourceTensor).\n"
          ]
        },
        {
          "name": "stdout",
          "output_type": "stream",
          "text": [
            "\t Epoch: 01 | Train Loss: 0.300 | val loss:0.984 | Train Accuracy: 94.74% | val Accuracy: 71.43%\n",
            "\t Epoch: 02 | Train Loss: 0.194 | val loss:1.069 | Train Accuracy: 100.00% | val Accuracy: 71.43%\n",
            "\t Epoch: 03 | Train Loss: 0.154 | val loss:1.083 | Train Accuracy: 100.00% | val Accuracy: 71.43%\n",
            "\t Epoch: 04 | Train Loss: 0.132 | val loss:1.036 | Train Accuracy: 94.74% | val Accuracy: 71.43%\n",
            "\t Epoch: 05 | Train Loss: 0.117 | val loss:1.060 | Train Accuracy: 100.00% | val Accuracy: 71.43%\n",
            "\t Epoch: 06 | Train Loss: 0.097 | val loss:1.054 | Train Accuracy: 100.00% | val Accuracy: 71.43%\n",
            "\t Epoch: 07 | Train Loss: 0.093 | val loss:1.024 | Train Accuracy: 100.00% | val Accuracy: 71.43%\n",
            "\t Epoch: 08 | Train Loss: 0.082 | val loss:1.024 | Train Accuracy: 100.00% | val Accuracy: 71.43%\n",
            "\t Epoch: 09 | Train Loss: 0.078 | val loss:1.030 | Train Accuracy: 100.00% | val Accuracy: 71.43%\n",
            "\t Epoch: 10 | Train Loss: 0.074 | val loss:1.033 | Train Accuracy: 100.00% | val Accuracy: 76.19%\n"
          ]
        }
      ],
      "source": [
        "# On entraine sur le modèle bilstm ==> A LANCER\n",
        "\n",
        "EMBEDDING_DIM = 6 \n",
        "HIDDEN_DIM = 6\n",
        "accuracy_list = []\n",
        "loss_list = []\n",
        "val_accuracy_list = []\n",
        "val_loss_list = []\n",
        "\n",
        "# notre modèle, notre loss et notre optimizer\n",
        "model = BiLSTM(EMBEDDING_DIM, HIDDEN_DIM, len(word_to_ix), len(tag_to_ix))\n",
        "loss_function = nn.NLLLoss()\n",
        "optimizer = optim.SGD(model.parameters(), lr=0.1) \n",
        "\n",
        "\n",
        "# on regarde les score avant le training (on met torch.no_grad() pour ne pas entrainter)\n",
        "# on obient en sortie (tag_scores) le score pour le tag j du mot i\n",
        "with torch.no_grad():\n",
        "    inputs = prepare_sequence(trainingSet[0][0], word_to_ix)\n",
        "    tag_scores = model(inputs)\n",
        "    #print(\"tag_scores avant training : \", tag_scores)\n",
        "\n",
        "for epoch in range(10):  \n",
        "    for sentence, tags in trainingSet:\n",
        "        # Get our inputs ready for the network\n",
        "        inputs = prepare_sequence(sentence, word_to_ix)\n",
        "        targets = prepare_sequence(tags, tag_to_ix)\n",
        "\n",
        "        # initialisation de la LOSS et l'ACCURACY\n",
        "        accuracy = 0.0\n",
        "        loss=0.0\n",
        "        val_accuracy=0.0\n",
        "        val_loss=0.0\n",
        "\n",
        "        # Step 1. Remember that Pytorch accumulates gradients.\n",
        "        # We need to clear them out before each instance \n",
        "        model.zero_grad()\n",
        "\n",
        "        # Step2: Also, we need to clear out the hidden state of the recurrent net,\n",
        "        # detaching it from its history on the last instance.\n",
        "        model.init_hidden()\n",
        "\n",
        "        # Step 3. Run our forward pass.\n",
        "        tag_scores = model(inputs)\n",
        "\n",
        "        # Step 4. Compute the loss, gradients, and update the parameters by\n",
        "        #  calling optimizer.step()\n",
        "        loss = loss_function(tag_scores, targets)\n",
        "        loss.backward()\n",
        "        optimizer.step()\n",
        "\n",
        "        #Step 5. Calcul accuracy     \n",
        "        accuracy += torch.mean(torch.tensor(targets == tag_scores.argmax(dim=1), dtype=torch.float))\n",
        "\n",
        "\n",
        "    #validation set\n",
        "    with torch.no_grad():\n",
        "        for sentence, tags in validationSet:\n",
        "            inputs = prepare_sequence(sentence, word_to_ix)\n",
        "            targets = prepare_sequence(tags, tag_to_ix)\n",
        "            val_accuracy = 0.0\n",
        "            tag_scores = model(inputs)\n",
        "            val_loss = loss_function(tag_scores, targets) \n",
        "            val_accuracy += torch.mean(torch.tensor(targets == tag_scores.argmax(dim=1), dtype=torch.float))\n",
        "\n",
        "    print(f'\\t Epoch: {epoch+1:02} | Train Loss: {loss:.3f} | val loss:{val_loss:.3f} | Train Accuracy: {accuracy*100:.2f}% | val Accuracy: {val_accuracy*100:.2f}%')\n",
        "    accuracy_list.append(float(accuracy))\n",
        "    val_accuracy_list.append(float(val_accuracy)) \n",
        "    loss_list.append(float(loss))\n",
        "    val_loss_list.append(float(val_loss))"
      ]
    },
    {
      "cell_type": "code",
      "execution_count": null,
      "metadata": {
        "id": "1dtwcHcGFYls",
        "outputId": "09983826-70d2-4b24-832a-30fc90da36df"
      },
      "outputs": [
        {
          "data": {
            "image/png": "[encoded data removed]",
            "text/plain": [
              "<Figure size 432x288 with 1 Axes>"
            ]
          },
          "metadata": {},
          "output_type": "display_data"
        }
      ],
      "source": [
        "plt.style.use(\"ggplot\")\n",
        "plt.figure()\n",
        "plt.plot(numpy.arange(0,10),accuracy_list,label=\"train_acc\")\n",
        "plt.plot(numpy.arange(0,10),val_accuracy_list,label=\"val_acc\")\n",
        "plt.title(\"Training and Validation Accuracy\")\n",
        "plt.xlabel(\"Epoch #\")\n",
        "plt.ylabel(\"Accuracy\")\n",
        "plt.legend(loc=\"lower right\")\n",
        "plt.show()"
      ]
    },
    {
      "cell_type": "code",
      "execution_count": null,
      "metadata": {
        "id": "tAiVM9fWFYls",
        "outputId": "97994787-7955-4e37-ef50-f4c7909441de"
      },
      "outputs": [
        {
          "data": {
            "image/png": "[encoded data removed]",
            "text/plain": [
              "<Figure size 432x288 with 1 Axes>"
            ]
          },
          "metadata": {},
          "output_type": "display_data"
        }
      ],
      "source": [
        "plt.style.use(\"ggplot\")\n",
        "plt.figure()\n",
        "plt.plot(numpy.arange(0,10),loss_list,label=\"train_loss\",)\n",
        "plt.plot(numpy.arange(0,10),val_loss_list,label=\"val_loss\")\n",
        "plt.title(\"Training and Validation Loss\")\n",
        "plt.xlabel(\"Epoch #\")\n",
        "plt.ylabel(\"Loss\")\n",
        "plt.legend(loc=\"lower right\")\n",
        "plt.show()"
      ]
    },
    {
      "cell_type": "code",
      "execution_count": null,
      "metadata": {
        "id": "O7t5-yjuFYls",
        "outputId": "ac169f03-d328-4df9-e574-a9dc196f0eb4"
      },
      "outputs": [
        {
          "name": "stderr",
          "output_type": "stream",
          "text": [
            "C:\\Users\\Hyboui\\Anaconda3\\lib\\site-packages\\ipykernel_launcher.py:12: UserWarning: To copy construct from a tensor, it is recommended to use sourceTensor.clone().detach() or sourceTensor.clone().detach().requires_grad_(True), rather than torch.tensor(sourceTensor).\n",
            "  if sys.path[0] == '':\n"
          ]
        },
        {
          "name": "stdout",
          "output_type": "stream",
          "text": [
            "\t Test Loss: 0.488 |Test Accuracy: 87.50%\n"
          ]
        }
      ],
      "source": [
        "#Vérification sur test\n",
        "\n",
        "for sentence, tags in testSet:\n",
        "    # Get our inputs ready for the network\n",
        "    inputs = prepare_sequence(sentence, word_to_ix)\n",
        "    targets = prepare_sequence(tags, tag_to_ix)\n",
        "\n",
        "    # initialisation de la LOSS et l'ACCURACY\n",
        "    test_accuracy = 0.0\n",
        "    tag_scores = model(inputs)\n",
        "    test_loss = loss_function(tag_scores, targets)  \n",
        "    test_accuracy += torch.mean(torch.tensor(targets == tag_scores.argmax(dim=1), dtype=torch.float))\n",
        "\n",
        "print(f'\\t Test Loss: {test_loss:.3f} |Test Accuracy: {test_accuracy*100:.2f}%')"
      ]
    },
    {
      "cell_type": "markdown",
      "metadata": {
        "id": "3hh64_ElFYlt"
      },
      "source": [
        "### Training 2 sur le modèle Bi-LSTM optimisé"
      ]
    },
    {
      "cell_type": "code",
      "execution_count": null,
      "metadata": {
        "colab": {
          "base_uri": "https://localhost:8080/",
          "height": 215
        },
        "id": "QhpI6xUKg_rF",
        "outputId": "9e64d669-063b-4cc6-b272-909e129bd392"
      },
      "outputs": [
        {
          "name": "stderr",
          "output_type": "stream",
          "text": [
            "C:\\Users\\Hyboui\\Anaconda3\\lib\\site-packages\\ipykernel_launcher.py:52: UserWarning: To copy construct from a tensor, it is recommended to use sourceTensor.clone().detach() or sourceTensor.clone().detach().requires_grad_(True), rather than torch.tensor(sourceTensor).\n",
            "C:\\Users\\Hyboui\\Anaconda3\\lib\\site-packages\\ipykernel_launcher.py:63: UserWarning: To copy construct from a tensor, it is recommended to use sourceTensor.clone().detach() or sourceTensor.clone().detach().requires_grad_(True), rather than torch.tensor(sourceTensor).\n"
          ]
        },
        {
          "name": "stdout",
          "output_type": "stream",
          "text": [
            "\t Epoch: 01 | Train Loss: 0.876 | val loss:1.175 | Train Accuracy: 68.42% | val Accuracy: 71.43%\n",
            "\t Epoch: 02 | Train Loss: 0.812 | val loss:0.847 | Train Accuracy: 78.95% | val Accuracy: 66.67%\n",
            "\t Epoch: 03 | Train Loss: 0.497 | val loss:0.879 | Train Accuracy: 68.42% | val Accuracy: 71.43%\n",
            "\t Epoch: 04 | Train Loss: 0.591 | val loss:0.596 | Train Accuracy: 78.95% | val Accuracy: 76.19%\n",
            "\t Epoch: 05 | Train Loss: 0.644 | val loss:0.689 | Train Accuracy: 68.42% | val Accuracy: 76.19%\n",
            "\t Epoch: 06 | Train Loss: 0.599 | val loss:0.728 | Train Accuracy: 73.68% | val Accuracy: 66.67%\n",
            "\t Epoch: 07 | Train Loss: 0.468 | val loss:0.787 | Train Accuracy: 78.95% | val Accuracy: 66.67%\n",
            "\t Epoch: 08 | Train Loss: 0.380 | val loss:0.848 | Train Accuracy: 84.21% | val Accuracy: 71.43%\n",
            "\t Epoch: 09 | Train Loss: 0.474 | val loss:0.821 | Train Accuracy: 84.21% | val Accuracy: 66.67%\n",
            "\t Epoch: 10 | Train Loss: 0.477 | val loss:0.828 | Train Accuracy: 84.21% | val Accuracy: 76.19%\n"
          ]
        }
      ],
      "source": [
        "# On entraine sur le modèle optimisé en bilstm\n",
        "# on reset au préalable les données, le modèle, etc.\n",
        "\n",
        "EMBEDDING_DIM = 12\n",
        "HIDDEN_DIM = 12\n",
        "accuracy_list = []\n",
        "loss_list = []\n",
        "val_accuracy_list = []\n",
        "val_loss_list = []\n",
        "\n",
        "# notre modèle, notre loss et notre optimizer\n",
        "model = BiLSTM(EMBEDDING_DIM, HIDDEN_DIM, len(word_to_ix), len(tag_to_ix))\n",
        "loss_function = nn.NLLLoss()\n",
        "optimizer = optim.Adam(model.parameters(), lr=0.1)\n",
        "\n",
        "# on regarde les score avant le training (on met torch.no_grad() pour ne pas entrainter)\n",
        "# on obient en sortie (tag_scores) le score pour le tag j du mot i\n",
        "with torch.no_grad():\n",
        "    inputs = prepare_sequence(trainingSet[0][0], word_to_ix)\n",
        "    tag_scores = model(inputs)\n",
        "    #print(\"tag_scores avant training : \", tag_scores)\n",
        "\n",
        "for epoch in range(10):  \n",
        "    for sentence, tags in trainingSet:\n",
        "        # Get our inputs ready for the network\n",
        "        inputs = prepare_sequence(sentence, word_to_ix)\n",
        "        targets = prepare_sequence(tags, tag_to_ix)\n",
        "\n",
        "        # initialisation de la LOSS et l'ACCURACY\n",
        "        accuracy = 0.0\n",
        "        loss=0.0\n",
        "        val_accuracy=0.0\n",
        "        val_loss=0.0\n",
        "\n",
        "        # Step 1. Remember that Pytorch accumulates gradients.\n",
        "        # We need to clear them out before each instance \n",
        "        model.zero_grad()\n",
        "\n",
        "        # Step2: Also, we need to clear out the hidden state of the recurrent net,\n",
        "        # detaching it from its history on the last instance.\n",
        "        model.init_hidden()\n",
        "\n",
        "        # Step 3. Run our forward pass.\n",
        "        tag_scores = model(inputs)\n",
        "\n",
        "        # Step 4. Compute the loss, gradients, and update the parameters by\n",
        "        #  calling optimizer.step()\n",
        "        loss = loss_function(tag_scores, targets)\n",
        "        loss.backward()\n",
        "        optimizer.step()\n",
        "\n",
        "        #Step 5. Calcul accuracy     \n",
        "        accuracy += torch.mean(torch.tensor(targets == tag_scores.argmax(dim=1), dtype=torch.float))\n",
        "\n",
        "\n",
        "    #validation set\n",
        "    with torch.no_grad():\n",
        "        for sentence, tags in validationSet:\n",
        "            inputs = prepare_sequence(sentence, word_to_ix)\n",
        "            targets = prepare_sequence(tags, tag_to_ix)\n",
        "            val_accuracy = 0.0\n",
        "            tag_scores = model(inputs)\n",
        "            val_loss = loss_function(tag_scores, targets) \n",
        "            val_accuracy += torch.mean(torch.tensor(targets == tag_scores.argmax(dim=1), dtype=torch.float))\n",
        "\n",
        "    print(f'\\t Epoch: {epoch+1:02} | Train Loss: {loss:.3f} | val loss:{val_loss:.3f} | Train Accuracy: {accuracy*100:.2f}% | val Accuracy: {val_accuracy*100:.2f}%')\n",
        "    accuracy_list.append(float(accuracy))\n",
        "    val_accuracy_list.append(float(val_accuracy)) \n",
        "    loss_list.append(float(loss))\n",
        "    val_loss_list.append(float(val_loss))"
      ]
    },
    {
      "cell_type": "code",
      "execution_count": null,
      "metadata": {
        "colab": {
          "base_uri": "https://localhost:8080/",
          "height": 299
        },
        "id": "xMevuPejU9ie",
        "outputId": "58d3da20-6888-4e6f-dc71-5e3f477d22fe"
      },
      "outputs": [
        {
          "data": {
            "image/png": "[encoded data removed]",
            "text/plain": [
              "<Figure size 432x288 with 1 Axes>"
            ]
          },
          "metadata": {},
          "output_type": "display_data"
        }
      ],
      "source": [
        "plt.style.use(\"ggplot\")\n",
        "plt.figure()\n",
        "plt.plot(numpy.arange(0,10),accuracy_list,label=\"train_acc\")\n",
        "plt.plot(numpy.arange(0,10),val_accuracy_list,label=\"val_acc\")\n",
        "plt.title(\"Training and Validation Accuracy\")\n",
        "plt.xlabel(\"Epoch #\")\n",
        "plt.ylabel(\"Accuracy\")\n",
        "plt.legend(loc=\"lower right\")\n",
        "plt.show()"
      ]
    },
    {
      "cell_type": "code",
      "execution_count": null,
      "metadata": {
        "colab": {
          "base_uri": "https://localhost:8080/",
          "height": 299
        },
        "id": "tbicp0IHTFHe",
        "outputId": "ed7bb548-a26f-4f1b-ba67-10e2013c4078"
      },
      "outputs": [
        {
          "data": {
            "image/png": "[encoded data removed]",
            "text/plain": [
              "<Figure size 432x288 with 1 Axes>"
            ]
          },
          "metadata": {},
          "output_type": "display_data"
        }
      ],
      "source": [
        "plt.style.use(\"ggplot\")\n",
        "plt.figure()\n",
        "plt.plot(numpy.arange(0,10),loss_list,label=\"train_loss\",)\n",
        "plt.plot(numpy.arange(0,10),val_loss_list,label=\"val_loss\")\n",
        "plt.title(\"Training and Validation Loss\")\n",
        "plt.xlabel(\"Epoch #\")\n",
        "plt.ylabel(\"Loss\")\n",
        "plt.legend(loc=\"lower right\")\n",
        "plt.show()"
      ]
    },
    {
      "cell_type": "code",
      "execution_count": null,
      "metadata": {
        "colab": {
          "base_uri": "https://localhost:8080/",
          "height": 90
        },
        "id": "weVBDGulN-zl",
        "outputId": "51ecd634-6d69-414f-fb2c-c4a741b736d8"
      },
      "outputs": [
        {
          "name": "stderr",
          "output_type": "stream",
          "text": [
            "C:\\Users\\Hyboui\\Anaconda3\\lib\\site-packages\\ipykernel_launcher.py:12: UserWarning: To copy construct from a tensor, it is recommended to use sourceTensor.clone().detach() or sourceTensor.clone().detach().requires_grad_(True), rather than torch.tensor(sourceTensor).\n",
            "  if sys.path[0] == '':\n"
          ]
        },
        {
          "name": "stdout",
          "output_type": "stream",
          "text": [
            "\t Test Loss: 0.700 |Test Accuracy: 79.17%\n"
          ]
        }
      ],
      "source": [
        "#Vérification sur test\n",
        "\n",
        "for sentence, tags in testSet:\n",
        "    # Get our inputs ready for the network\n",
        "    inputs = prepare_sequence(sentence, word_to_ix)\n",
        "    targets = prepare_sequence(tags, tag_to_ix)\n",
        "\n",
        "    # initialisation de la LOSS et l'ACCURACY\n",
        "    test_accuracy = 0.0\n",
        "    tag_scores = model(inputs)\n",
        "    test_loss = loss_function(tag_scores, targets)  \n",
        "    test_accuracy += torch.mean(torch.tensor(targets == tag_scores.argmax(dim=1), dtype=torch.float))\n",
        "\n",
        "print(f'\\t Test Loss: {test_loss:.3f} |Test Accuracy: {test_accuracy*100:.2f}%')"
      ]
    },
    {
      "cell_type": "markdown",
      "metadata": {
        "id": "R2At9P1wFYlu"
      },
      "source": [
        "## Conclusion\n",
        "\n",
        "Avec le modèle LSTM optimisé, on obtient de très bons résultats (Test Loss: 0.579 |Test Accuracy: 87.50%).\n",
        "Nous avons développé un modèle supplémentaire qui est le bi-lstm, mais malheureusement, nous n'obtenons pas de meilleurs résultats :\n",
        "- bi-lstm : Test Loss: 0.488 |Test Accuracy: 87.50%, \n",
        "- bi-lstm optimisé Test Loss: 0.700 |Test Accuracy: 79.17%\n",
        "\n",
        "Pour notre sujet, il vaut donc mieux utilisé le modèle LSTM optimisé avec un accuracy de 87.50%.\n",
        "\n"
      ]
    }
  ],
  "metadata": {
    "accelerator": "GPU",
    "colab": {
      "collapsed_sections": [],
      "name": "Sequence_tagging.ipynb",
      "provenance": [],
      "toc_visible": true,
      "include_colab_link": true
    },
    "kernelspec": {
      "display_name": "Python 3",
      "language": "python",
      "name": "python3"
    },
    "language_info": {
      "codemirror_mode": {
        "name": "ipython",
        "version": 3
      },
      "file_extension": ".py",
      "mimetype": "text/x-python",
      "name": "python",
      "nbconvert_exporter": "python",
      "pygments_lexer": "ipython3",
      "version": "3.6.9"
    }
  },
  "nbformat": 4,
  "nbformat_minor": 0
}